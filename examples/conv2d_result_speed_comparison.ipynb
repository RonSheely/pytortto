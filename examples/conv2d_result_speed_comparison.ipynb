{
 "cells": [
  {
   "cell_type": "markdown",
   "id": "bcc1f1d2",
   "metadata": {},
   "source": [
    "### `Conv2d` result comparison:\n",
    "prepare common weight, bias, input and gradient data"
   ]
  },
  {
   "cell_type": "code",
   "execution_count": 1,
   "id": "26199c34",
   "metadata": {},
   "outputs": [],
   "source": [
    "import numpy as np\n",
    "\n",
    "data = np.random.randn(128, 4, 64, 64).astype('f')\n",
    "weight = np.random.randn(16, 2, 3, 2).astype('f')\n",
    "bias = np.random.randn(16).astype('f')\n",
    "grad = np.random.randn(128, 16, 66, 23).astype('f')"
   ]
  },
  {
   "cell_type": "markdown",
   "id": "4e8dd384",
   "metadata": {},
   "source": [
    "tortto `conv2d`: "
   ]
  },
  {
   "cell_type": "code",
   "execution_count": 2,
   "id": "bb0fb3b4",
   "metadata": {},
   "outputs": [],
   "source": [
    "import tortto as tt\n",
    "import tortto.nn as nn\n",
    "\n",
    "m = nn.Conv2d(in_channels=4, \n",
    "              out_channels=16, \n",
    "              kernel_size=(3, 2), \n",
    "              stride=(1, 3), \n",
    "              padding=(2, 3), \n",
    "              dilation=(1, 2),\n",
    "              groups=2, \n",
    "              bias=True, \n",
    "              padding_mode='zeros')  # only support zero padding for now\n",
    "m.weight = nn.Parameter(tt.tensor(weight))\n",
    "m.bias = nn.Parameter(tt.tensor(bias))\n",
    "x = tt.tensor(data, requires_grad=True)\n",
    "y = m(x)\n",
    "y.backward(tt.tensor(grad))"
   ]
  },
  {
   "cell_type": "markdown",
   "id": "71bb133e",
   "metadata": {},
   "source": [
    "pytorch `Conv2d`:  "
   ]
  },
  {
   "cell_type": "code",
   "execution_count": 3,
   "id": "28f573bf",
   "metadata": {},
   "outputs": [],
   "source": [
    "import torch\n",
    "\n",
    "m_torch = torch.nn.Conv2d(in_channels=4, \n",
    "                          out_channels=16, \n",
    "                          kernel_size=(3, 2), \n",
    "                          stride=(1, 3), \n",
    "                          padding=(2, 3),\n",
    "                          dilation=(1, 2), \n",
    "                          groups=2, \n",
    "                          bias=True, \n",
    "                          padding_mode='zeros')\n",
    "m_torch.weight = torch.nn.Parameter(torch.tensor(weight))\n",
    "m_torch.bias = torch.nn.Parameter(torch.tensor(bias))\n",
    "x_torch = torch.tensor(data, requires_grad=True)\n",
    "y_torch = m_torch(x_torch)\n",
    "y_torch.backward(torch.tensor(grad))"
   ]
  },
  {
   "cell_type": "markdown",
   "id": "187faf87",
   "metadata": {},
   "source": [
    "output and gradients comparison:"
   ]
  },
  {
   "cell_type": "code",
   "execution_count": 4,
   "id": "31c88506",
   "metadata": {},
   "outputs": [
    {
     "name": "stdout",
     "output_type": "stream",
     "text": [
      "True\n",
      "True\n",
      "True\n",
      "True\n"
     ]
    }
   ],
   "source": [
    "print(np.allclose(y.detach().numpy(), y_torch.detach().numpy(), atol=1e-5, rtol=1e-5)) # output\n",
    "print(np.allclose(x.grad, x_torch.grad.detach().numpy(), atol=1e-5, rtol=1e-5)) # input grad\n",
    "print(np.allclose(m.weight.grad, m_torch.weight.grad.detach().numpy(), atol=1e-5, rtol=1e-3)) # weight grad\n",
    "print(np.allclose(m.bias.grad, m_torch.bias.grad.detach().numpy(), atol=1e-5, rtol=1e-3)) # bias grad"
   ]
  },
  {
   "cell_type": "markdown",
   "id": "3c06d841",
   "metadata": {},
   "source": [
    "### `Conv2d` speed comparison in GPU:"
   ]
  },
  {
   "cell_type": "code",
   "execution_count": 5,
   "id": "0b503181",
   "metadata": {},
   "outputs": [
    {
     "name": "stdout",
     "output_type": "stream",
     "text": [
      "GPU 0: NVIDIA GeForce RTX 2080 (UUID: GPU-d7a0f83a-dd13-2c12-cf81-2d76458e89a8)\r\n"
     ]
    }
   ],
   "source": [
    "!nvidia-smi -L"
   ]
  },
  {
   "cell_type": "code",
   "execution_count": 6,
   "id": "ce44f28d",
   "metadata": {},
   "outputs": [
    {
     "name": "stdout",
     "output_type": "stream",
     "text": [
      "tortto_conv2d_gpu   :    CPU: 11462.856 us   +/- 303.534 (min: 11264.330 / max: 12227.156) us     GPU-0: 11468.411 us   +/- 303.613 (min: 11269.728 / max: 12232.576) us \n",
      "\n",
      "torch_conv2d_gpu    :    CPU: 10081.922 us   +/- 50.814 (min: 10002.339 / max: 10189.587) us     GPU-0: 10094.026 us   +/- 50.711 (min: 10015.264 / max: 10201.856) us\n"
     ]
    }
   ],
   "source": [
    "from cupyx.profiler import benchmark\n",
    "\n",
    "m = m.cuda()\n",
    "m_torch = m_torch.cuda()\n",
    "\n",
    "def tortto_conv2d_gpu():\n",
    "    x = tt.tensor(data, requires_grad=True).cuda()\n",
    "    y = m(x)\n",
    "    y.backward(tt.tensor(grad).cuda())\n",
    "\n",
    "def torch_conv2d_gpu():\n",
    "    x_torch = torch.tensor(data, requires_grad=True).cuda()\n",
    "    y_torch = m_torch(x_torch)\n",
    "    y_torch.backward(torch.tensor(grad).cuda())\n",
    "\n",
    "print(benchmark(tortto_conv2d_gpu, (), n_repeat=50), '\\n')\n",
    "print(benchmark(torch_conv2d_gpu, (), n_repeat=50))"
   ]
  },
  {
   "cell_type": "markdown",
   "id": "47a95e42",
   "metadata": {},
   "source": [
    "As shown above, in this example tortto `conv2d` is only slightly slower than pytorch.  \n",
    "In real training scenarios it's less than 3 times slower than pytorch."
   ]
  },
  {
   "cell_type": "code",
   "execution_count": null,
   "id": "425ff8d0",
   "metadata": {},
   "outputs": [],
   "source": []
  }
 ],
 "metadata": {
  "kernelspec": {
   "display_name": "Python 3 (ipykernel)",
   "language": "python",
   "name": "python3"
  },
  "language_info": {
   "codemirror_mode": {
    "name": "ipython",
    "version": 3
   },
   "file_extension": ".py",
   "mimetype": "text/x-python",
   "name": "python",
   "nbconvert_exporter": "python",
   "pygments_lexer": "ipython3",
   "version": "3.9.12"
  }
 },
 "nbformat": 4,
 "nbformat_minor": 5
}
