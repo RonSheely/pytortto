{
 "cells": [
  {
   "cell_type": "markdown",
   "metadata": {},
   "source": [
    "This notebook finetunes a pretrained vision transformer ViT-B/16 model on the CIFAR-10 dataset. The final accuracy is 97.42%."
   ]
  },
  {
   "cell_type": "code",
   "execution_count": 1,
   "metadata": {},
   "outputs": [],
   "source": [
    "import os\n",
    "import sys\n",
    "import time\n",
    "from datetime import datetime\n",
    "\n",
    "import matplotlib.pyplot as plt\n",
    "from matplotlib.offsetbox import OffsetImage, AnchoredOffsetbox\n",
    "from tqdm import tqdm # progress bar\n",
    "\n",
    "sys.path.append('../../../src')"
   ]
  },
  {
   "cell_type": "markdown",
   "metadata": {},
   "source": [
    "## some parameters"
   ]
  },
  {
   "cell_type": "code",
   "execution_count": 2,
   "metadata": {},
   "outputs": [],
   "source": [
    "batch_size = 32 # can be set small for stronger regularization from batchnorm, and also saves memory.\n",
    "learning_rate = 2e-5\n",
    "weight_decay = 0.01\n",
    "epochs = 15"
   ]
  },
  {
   "cell_type": "markdown",
   "metadata": {},
   "source": [
    "## only use dataset and dataloader from pytorch\n",
    "tensors loaded using `pytorch` will be converted to `tortto` tensors later."
   ]
  },
  {
   "cell_type": "code",
   "execution_count": 3,
   "metadata": {},
   "outputs": [],
   "source": [
    "from numpy.random import choice\n",
    "from torch.utils.data import DataLoader, random_split, Subset\n",
    "from torchvision.datasets import CIFAR10\n",
    "from torchvision.transforms import Compose, Resize, RandomResizedCrop, RandomHorizontalFlip, ToTensor, Normalize"
   ]
  },
  {
   "cell_type": "code",
   "execution_count": 4,
   "metadata": {},
   "outputs": [
    {
     "name": "stdout",
     "output_type": "stream",
     "text": [
      "Files already downloaded and verified\n",
      "Files already downloaded and verified\n",
      "Files already downloaded and verified\n",
      "size of train set 4500\n",
      "size of validation set 500\n",
      "size of test set 10000\n"
     ]
    }
   ],
   "source": [
    "dataset_path = '../../cifar10_data'\n",
    "img_mean = (.5,.5,.5)\n",
    "img_sd = (.5,.5,.5)\n",
    "transform_aug = Compose([\n",
    "    RandomResizedCrop((224, 224)),\n",
    "    RandomHorizontalFlip(),\n",
    "    ToTensor(),\n",
    "    Normalize(img_mean, img_sd),\n",
    "])\n",
    "transform = Compose([\n",
    "    Resize((224, 224)),\n",
    "    ToTensor(),\n",
    "    Normalize(img_mean, img_sd)\n",
    "])\n",
    "# create datasets\n",
    "train_dataset = CIFAR10(root=dataset_path, train=True, download=True, transform=transform_aug)\n",
    "val_dataset = CIFAR10(root=dataset_path, train=True, download=True, transform=transform)\n",
    "test_dataset = CIFAR10(root=dataset_path, train=False, download=True, transform=transform)\n",
    "\n",
    "# create dataloaders\n",
    "indices = choice(50_000, size=50_000, replace=False)\n",
    "train_idx, val_idx, _ = indices[:45_00], indices[45_00:50_00], indices[50_00:] # we only use 1/10th of train data\n",
    "train_loader = DataLoader(Subset(train_dataset, train_idx), batch_size=batch_size, shuffle=True)\n",
    "val_loader = DataLoader(Subset(val_dataset, val_idx), batch_size=batch_size, shuffle=False)\n",
    "test_loader = DataLoader(test_dataset, batch_size=batch_size, shuffle=False) # test data is untouched\n",
    "\n",
    "classes = ('plane', 'car', 'bird', 'cat', 'deer', 'dog', 'frog', 'horse', 'ship', 'truck')\n",
    "print('size of train set', len(train_idx))\n",
    "print('size of validation set', len(val_idx))\n",
    "print('size of test set', len(test_dataset))"
   ]
  },
  {
   "cell_type": "markdown",
   "metadata": {},
   "source": [
    "## the rest is done in pytortto"
   ]
  },
  {
   "cell_type": "code",
   "execution_count": 5,
   "metadata": {},
   "outputs": [],
   "source": [
    "import tortto as tt\n",
    "import tortto.nn as nn\n",
    "import tortto.nn.functional as F\n",
    "import tortto.optim as optim"
   ]
  },
  {
   "cell_type": "markdown",
   "metadata": {},
   "source": [
    "## define a network"
   ]
  },
  {
   "cell_type": "code",
   "execution_count": 6,
   "metadata": {},
   "outputs": [],
   "source": [
    "class VisionTransformer_finetune(nn.Module):\n",
    "    def __init__(self, image_size, patch_size, embed_dim, hidden_dim, in_channels, num_heads, num_layers, num_classes,\n",
    "                 dropout):\n",
    "        H, W = image_size\n",
    "        ph, pw = patch_size\n",
    "        num_patches = int(((H + 0.1) // ph) * ((W + 0.1) // pw))\n",
    "        super(VisionTransformer_finetune, self).__init__()\n",
    "        self.input_layer = nn.Conv2d(in_channels, embed_dim, patch_size, stride=patch_size)\n",
    "        self.cls_token = nn.Parameter(tt.randn(1, 1, embed_dim))\n",
    "        self.pos_embedding = nn.Parameter(tt.randn(1, num_patches + 1, embed_dim))\n",
    "        self.dropout = nn.Dropout(dropout)\n",
    "        encoder_layer = nn.TransformerEncoderLayer(embed_dim, num_heads, hidden_dim, dropout, activation=F.gelu,\n",
    "                                                   batch_first=True, norm_first=True)\n",
    "        self.transformer = nn.TransformerEncoder(encoder_layer, num_layers, norm=nn.LayerNorm(embed_dim))\n",
    "        \n",
    "\n",
    "    def forward(self, x):  # B: batchsize, C:in_channels, E:embedding dim\n",
    "        x = self.input_layer(x).flatten(-2, -1).swapaxes(-1, -2)  # B,C,H,W, -> B,E,h,w -> B,E,h*w -> B,h*w,E\n",
    "        B, N = x.shape[:2]  # batch and number of patches\n",
    "        x = tt.cat([self.cls_token.repeat(B, 1, 1), x], dim=1)  # add class token\n",
    "        x = x + self.pos_embedding[:, :(N + 1)]  # add position embedding\n",
    "        x = self.dropout(x)\n",
    "        x = self.transformer(x)\n",
    "        x = F.log_softmax(self.classifier(x[:, 0]), dim=-1)\n",
    "        return x"
   ]
  },
  {
   "cell_type": "code",
   "execution_count": 7,
   "metadata": {
    "scrolled": true
   },
   "outputs": [
    {
     "name": "stdout",
     "output_type": "stream",
     "text": [
      "total trainable parameters: 85.81 million\n"
     ]
    }
   ],
   "source": [
    "kwargs={\n",
    "    # CIFAR-10\n",
    "    'image_size':(224,224), # (3,32,32) resized to (3,224,224)\n",
    "    'in_channels':3,\n",
    "    'num_classes':10,\n",
    "    \n",
    "    # ViT-Base\n",
    "    'patch_size':(16,16),\n",
    "    'embed_dim':768,\n",
    "    'hidden_dim':3072,\n",
    "    'num_heads':12,\n",
    "    'num_layers':12,\n",
    "    'dropout':0.,\n",
    "}\n",
    "\n",
    "# initialize a ViT\n",
    "net = VisionTransformer_finetune(**kwargs)\n",
    "\n",
    "# load pretrained parameters\n",
    "net.load_state_dict(tt.load('models/vit-base-patch16-224-in21k.npy'))\n",
    "\n",
    "# add an extra classification layer\n",
    "net.classifier = nn.Linear(kwargs['embed_dim'], kwargs['num_classes']) # add extra classfication layer\n",
    "nn.init.zeros_(net.classifier.bias)\n",
    "\n",
    "# total parameters\n",
    "print(f'total trainable parameters: {sum(_.numel() for _ in net.parameters())/1e6:.2f} million')\n",
    "\n",
    "\n",
    "net = net.cuda()\n",
    "criterion = nn.NLLLoss()\n",
    "optimizer = optim.AdamW(net.parameters(), lr=learning_rate, weight_decay=weight_decay)"
   ]
  },
  {
   "cell_type": "markdown",
   "metadata": {},
   "source": [
    "## define functions for training and validation"
   ]
  },
  {
   "cell_type": "code",
   "execution_count": 8,
   "metadata": {},
   "outputs": [],
   "source": [
    "def calculate_loss(batch, correct, total):\n",
    "    inputs, labels = batch\n",
    "    \n",
    "    # convert pytorch tensor to tortto tensor\n",
    "    inpt = tt.tensor(inputs.numpy()).cuda()\n",
    "    lab = tt.tensor(labels.numpy()).cuda()\n",
    "    \n",
    "    # forward\n",
    "    outputs = net(inpt)\n",
    "    loss = criterion(outputs, lab)\n",
    "    \n",
    "    # prediction\n",
    "    predicted = outputs.argmax(-1)\n",
    "    correct += (predicted == lab).sum().item()\n",
    "    total += lab.shape[0]\n",
    "    \n",
    "    return loss, correct, total\n",
    "    \n",
    "    \n",
    "def train():\n",
    "    # train\n",
    "    net.train()\n",
    "    correct = 0\n",
    "    total = 0\n",
    "    loop = tqdm(train_loader)\n",
    "    train_loss = 0\n",
    "    for i, batch in enumerate(loop):\n",
    "\n",
    "        # zero the parameter gradients\n",
    "        optimizer.zero_grad()\n",
    "\n",
    "        loss, correct, total = calculate_loss(batch, correct, total)\n",
    "        \n",
    "        # accumulate loss\n",
    "        train_loss += loss.item()\n",
    "\n",
    "        # backpropagation\n",
    "        loss.backward()\n",
    "\n",
    "        # update parameters\n",
    "        optimizer.step()\n",
    "\n",
    "    # keep track of train loss and train error\n",
    "    loss_history['train'].append(train_loss / (i + 1))\n",
    "    error_history['train'].append(100 * (1. - correct / total))\n",
    "    \n",
    "\n",
    "@tt.no_grad()\n",
    "def val_test(dataloader):\n",
    "    net.eval()\n",
    "    correct = 0\n",
    "    total_sample = 0\n",
    "    total_loss = 0\n",
    "    loop = tqdm(dataloader)\n",
    "    for i, batch in enumerate(loop):\n",
    "        \n",
    "        # cal loss\n",
    "        loss, correct, total_sample = calculate_loss(batch, correct, total_sample)\n",
    "        \n",
    "        # accumulate val loss\n",
    "        total_loss += loss.item()\n",
    "    \n",
    "    avg_loss = total_loss / (i + 1)\n",
    "    avg_error = 100 * (1. - correct / total_sample)\n",
    "    return avg_loss, avg_error\n",
    "\n",
    "    \n",
    "def save():\n",
    "    global lowest_error\n",
    "    # save checkpoint\n",
    "    if error_history['val'][-1] < lowest_error:\n",
    "        checkpoint = {\n",
    "            'model': net.state_dict()\n",
    "            }\n",
    "        tt.save(checkpoint, f'models/checkpoint_{str(epoch).zfill(3)}.npy')\n",
    "        lowest_error = error_history['val'][-1]\n",
    "    \n",
    "    # save loss, error history and log\n",
    "    tt.save(loss_history, 'logs/loss_history.npy')\n",
    "    tt.save(error_history, 'logs/error_history.npy')\n",
    "    with open('logs/log.txt','a') as f:\n",
    "        f.write('epoch{} finished at {}. val_loss: {:.4f} - val_error: {:.2f}%\\n'.\n",
    "                format(str(epoch).zfill(3), \n",
    "                       datetime.now().strftime(\"%m/%d/%Y, %H:%M:%S\"), \n",
    "                       loss_history['val'][-1], \n",
    "                       error_history['val'][-1]))"
   ]
  },
  {
   "cell_type": "markdown",
   "metadata": {},
   "source": [
    "## start training"
   ]
  },
  {
   "cell_type": "code",
   "execution_count": 9,
   "metadata": {},
   "outputs": [
    {
     "name": "stderr",
     "output_type": "stream",
     "text": [
      "100%|██████████| 141/141 [04:04<00:00,  1.73s/it]\n",
      "100%|██████████| 16/16 [00:09<00:00,  1.67it/s]\n"
     ]
    },
    {
     "name": "stdout",
     "output_type": "stream",
     "text": [
      " - val_loss: 2.2198 - val_error: 67.40%\n",
      "\n"
     ]
    },
    {
     "name": "stderr",
     "output_type": "stream",
     "text": [
      "100%|██████████| 141/141 [04:02<00:00,  1.72s/it]\n",
      "100%|██████████| 16/16 [00:09<00:00,  1.66it/s]\n"
     ]
    },
    {
     "name": "stdout",
     "output_type": "stream",
     "text": [
      " - val_loss: 0.8720 - val_error: 5.20%\n",
      "\n"
     ]
    },
    {
     "name": "stderr",
     "output_type": "stream",
     "text": [
      "100%|██████████| 141/141 [04:02<00:00,  1.72s/it]\n",
      "100%|██████████| 16/16 [00:09<00:00,  1.66it/s]\n"
     ]
    },
    {
     "name": "stdout",
     "output_type": "stream",
     "text": [
      " - val_loss: 0.4419 - val_error: 3.00%\n",
      "\n"
     ]
    },
    {
     "name": "stderr",
     "output_type": "stream",
     "text": [
      "100%|██████████| 141/141 [04:01<00:00,  1.71s/it]\n",
      "100%|██████████| 16/16 [00:09<00:00,  1.66it/s]\n"
     ]
    },
    {
     "name": "stdout",
     "output_type": "stream",
     "text": [
      " - val_loss: 0.2966 - val_error: 2.00%\n",
      "\n"
     ]
    },
    {
     "name": "stderr",
     "output_type": "stream",
     "text": [
      "100%|██████████| 141/141 [04:02<00:00,  1.72s/it]\n",
      "100%|██████████| 16/16 [00:09<00:00,  1.66it/s]\n"
     ]
    },
    {
     "name": "stdout",
     "output_type": "stream",
     "text": [
      " - val_loss: 0.2383 - val_error: 2.00%\n",
      "\n"
     ]
    },
    {
     "name": "stderr",
     "output_type": "stream",
     "text": [
      "100%|██████████| 141/141 [04:02<00:00,  1.72s/it]\n",
      "100%|██████████| 16/16 [00:09<00:00,  1.67it/s]\n"
     ]
    },
    {
     "name": "stdout",
     "output_type": "stream",
     "text": [
      " - val_loss: 0.2018 - val_error: 2.40%\n",
      "\n"
     ]
    },
    {
     "name": "stderr",
     "output_type": "stream",
     "text": [
      "100%|██████████| 141/141 [04:02<00:00,  1.72s/it]\n",
      "100%|██████████| 16/16 [00:09<00:00,  1.67it/s]\n"
     ]
    },
    {
     "name": "stdout",
     "output_type": "stream",
     "text": [
      " - val_loss: 0.1745 - val_error: 2.60%\n",
      "\n"
     ]
    },
    {
     "name": "stderr",
     "output_type": "stream",
     "text": [
      "100%|██████████| 141/141 [04:02<00:00,  1.72s/it]\n",
      "100%|██████████| 16/16 [00:09<00:00,  1.66it/s]\n"
     ]
    },
    {
     "name": "stdout",
     "output_type": "stream",
     "text": [
      " - val_loss: 0.1600 - val_error: 2.40%\n",
      "\n"
     ]
    },
    {
     "name": "stderr",
     "output_type": "stream",
     "text": [
      "100%|██████████| 141/141 [04:02<00:00,  1.72s/it]\n",
      "100%|██████████| 16/16 [00:09<00:00,  1.65it/s]\n"
     ]
    },
    {
     "name": "stdout",
     "output_type": "stream",
     "text": [
      " - val_loss: 0.1414 - val_error: 2.20%\n",
      "\n"
     ]
    },
    {
     "name": "stderr",
     "output_type": "stream",
     "text": [
      "100%|██████████| 141/141 [04:02<00:00,  1.72s/it]\n",
      "100%|██████████| 16/16 [00:09<00:00,  1.67it/s]\n"
     ]
    },
    {
     "name": "stdout",
     "output_type": "stream",
     "text": [
      " - val_loss: 0.1287 - val_error: 2.80%\n",
      "\n"
     ]
    },
    {
     "name": "stderr",
     "output_type": "stream",
     "text": [
      "100%|██████████| 141/141 [04:02<00:00,  1.72s/it]\n",
      "100%|██████████| 16/16 [00:09<00:00,  1.66it/s]\n"
     ]
    },
    {
     "name": "stdout",
     "output_type": "stream",
     "text": [
      " - val_loss: 0.1152 - val_error: 2.00%\n",
      "\n"
     ]
    },
    {
     "name": "stderr",
     "output_type": "stream",
     "text": [
      "100%|██████████| 141/141 [04:01<00:00,  1.71s/it]\n",
      "100%|██████████| 16/16 [00:09<00:00,  1.66it/s]\n"
     ]
    },
    {
     "name": "stdout",
     "output_type": "stream",
     "text": [
      " - val_loss: 0.1136 - val_error: 2.00%\n",
      "\n"
     ]
    },
    {
     "name": "stderr",
     "output_type": "stream",
     "text": [
      "100%|██████████| 141/141 [04:02<00:00,  1.72s/it]\n",
      "100%|██████████| 16/16 [00:09<00:00,  1.65it/s]\n"
     ]
    },
    {
     "name": "stdout",
     "output_type": "stream",
     "text": [
      " - val_loss: 0.0967 - val_error: 1.80%\n",
      "\n"
     ]
    },
    {
     "name": "stderr",
     "output_type": "stream",
     "text": [
      "100%|██████████| 141/141 [04:02<00:00,  1.72s/it]\n",
      "100%|██████████| 16/16 [00:09<00:00,  1.65it/s]\n"
     ]
    },
    {
     "name": "stdout",
     "output_type": "stream",
     "text": [
      " - val_loss: 0.1125 - val_error: 2.60%\n",
      "\n"
     ]
    },
    {
     "name": "stderr",
     "output_type": "stream",
     "text": [
      "100%|██████████| 141/141 [04:02<00:00,  1.72s/it]\n",
      "100%|██████████| 16/16 [00:09<00:00,  1.65it/s]\n"
     ]
    },
    {
     "name": "stdout",
     "output_type": "stream",
     "text": [
      " - val_loss: 0.1019 - val_error: 1.60%\n",
      "\n"
     ]
    }
   ],
   "source": [
    "loss_history = {'train': [], 'val': []}\n",
    "error_history = {'train': [], 'val': []}\n",
    "\n",
    "if os.path.exists('logs/log.txt'):\n",
    "    raise OSError('log.txt already exists')\n",
    "\n",
    "lowest_error = 100\n",
    "warmup=1\n",
    "for epoch in range(epochs):\n",
    "    if epoch < warmup:\n",
    "        optimizer.param_groups[0]['lr'] = learning_rate / 10\n",
    "    elif epoch == warmup:\n",
    "        optimizer.param_groups[0]['lr'] = learning_rate\n",
    "    \n",
    "    # train\n",
    "    train()\n",
    "    \n",
    "    # validation\n",
    "    val_loss, val_error = val_test(val_loader)\n",
    "    loss_history['val'].append(val_loss)\n",
    "    error_history['val'].append(val_error)\n",
    "    print(' - val_loss: {:.4f} - val_error: {:.2f}%\\n'.format(loss_history['val'][-1], val_error))\n",
    "    \n",
    "    # save\n",
    "    save()"
   ]
  },
  {
   "cell_type": "markdown",
   "metadata": {},
   "source": [
    "## plot loss and error"
   ]
  },
  {
   "cell_type": "code",
   "execution_count": 10,
   "metadata": {},
   "outputs": [
    {
     "data": {
      "image/png": "[encoded data removed]",
      "text/plain": [
       "<Figure size 432x288 with 1 Axes>"
      ]
     },
     "metadata": {
      "needs_background": "light"
     },
     "output_type": "display_data"
    }
   ],
   "source": [
    "loss_history = tt.load('logs/loss_history.npy')\n",
    "plt.plot(loss_history['train'], 'r', label='train')\n",
    "plt.plot(loss_history['val'], 'b', label='val')\n",
    "plt.xlabel('epoch')\n",
    "plt.ylabel('loss')\n",
    "plt.title('loss history')\n",
    "plt.legend()\n",
    "plt.show()"
   ]
  },
  {
   "cell_type": "code",
   "execution_count": 11,
   "metadata": {},
   "outputs": [
    {
     "data": {
      "image/png": "[encoded data removed]",
      "text/plain": [
       "<Figure size 432x288 with 1 Axes>"
      ]
     },
     "metadata": {
      "needs_background": "light"
     },
     "output_type": "display_data"
    }
   ],
   "source": [
    "error_history = tt.load('logs/error_history.npy')\n",
    "plt.plot(error_history['train'], 'r', label='train')\n",
    "plt.plot(error_history['val'], 'b', label='val')\n",
    "plt.xlabel('epoch')\n",
    "plt.ylabel('error %')\n",
    "plt.title('error history')\n",
    "plt.legend()\n",
    "plt.show()"
   ]
  },
  {
   "cell_type": "markdown",
   "metadata": {},
   "source": [
    "## evaluation on test set"
   ]
  },
  {
   "cell_type": "code",
   "execution_count": 12,
   "metadata": {},
   "outputs": [
    {
     "data": {
      "text/plain": [
       "<All keys matched successfully>"
      ]
     },
     "execution_count": 12,
     "metadata": {},
     "output_type": "execute_result"
    }
   ],
   "source": [
    "# load checkpoint with the lowest validation error\n",
    "checkpoint = tt.load('models/checkpoint_014.npy')\n",
    "net.load_state_dict(checkpoint['model'])"
   ]
  },
  {
   "cell_type": "code",
   "execution_count": 13,
   "metadata": {},
   "outputs": [
    {
     "name": "stderr",
     "output_type": "stream",
     "text": [
      "100%|██████████| 313/313 [03:01<00:00,  1.72it/s]"
     ]
    },
    {
     "name": "stdout",
     "output_type": "stream",
     "text": [
      "Test error: 2.58%\n"
     ]
    },
    {
     "name": "stderr",
     "output_type": "stream",
     "text": [
      "\n"
     ]
    }
   ],
   "source": [
    "_, test_error = val_test(test_loader)\n",
    "print(f'Test error: {test_error:.2f}%')"
   ]
  },
  {
   "cell_type": "code",
   "execution_count": null,
   "metadata": {},
   "outputs": [],
   "source": []
  }
 ],
 "metadata": {
  "environment": {
   "kernel": "python3",
   "name": "pytorch-gpu.1-11.m93",
   "type": "gcloud",
   "uri": "gcr.io/deeplearning-platform-release/pytorch-gpu.1-11:m93"
  },
  "kernelspec": {
   "display_name": "Python 3 (ipykernel)",
   "language": "python",
   "name": "python3"
  },
  "language_info": {
   "codemirror_mode": {
    "name": "ipython",
    "version": 3
   },
   "file_extension": ".py",
   "mimetype": "text/x-python",
   "name": "python",
   "nbconvert_exporter": "python",
   "pygments_lexer": "ipython3",
   "version": "3.9.12"
  }
 },
 "nbformat": 4,
 "nbformat_minor": 4
}
