{
 "cells": [
  {
   "cell_type": "code",
   "execution_count": 1,
   "id": "40ba8251",
   "metadata": {},
   "outputs": [],
   "source": [
    "import math\n",
    "import sys\n",
    "sys.path.append('../../src')\n",
    "from functools import partial\n",
    "\n",
    "import matplotlib.pyplot as plt\n",
    "from tqdm import tqdm # progress bar"
   ]
  },
  {
   "cell_type": "markdown",
   "id": "92c5ddcb",
   "metadata": {},
   "source": [
    "### only use dataset and dataloader from pytorch"
   ]
  },
  {
   "cell_type": "code",
   "execution_count": 2,
   "id": "2f42ebfc",
   "metadata": {},
   "outputs": [],
   "source": [
    "from torch import randint, flip\n",
    "from torch.utils.data import Dataset, DataLoader\n",
    "\n",
    "class ReverseDataset(Dataset):\n",
    "    def __init__(self, num_categories, seq_len, size):\n",
    "        super().__init__()\n",
    "        self.num_categories = num_categories\n",
    "        self.seq_len = seq_len\n",
    "        self.size = size\n",
    "        self.data = randint(self.num_categories, size=(self.size, self.seq_len))\n",
    "\n",
    "    def __len__(self):\n",
    "        return self.size\n",
    "\n",
    "    def __getitem__(self, idx):\n",
    "        inp_data = self.data[idx]\n",
    "        labels = flip(inp_data, dims=(0,))\n",
    "        return inp_data, labels"
   ]
  },
  {
   "cell_type": "code",
   "execution_count": 3,
   "id": "4ebc118a",
   "metadata": {},
   "outputs": [],
   "source": [
    "num_categories = 10\n",
    "seq_len = 16\n",
    "dataset = partial(ReverseDataset, num_categories, seq_len)\n",
    "train_loader = DataLoader(dataset(50000), batch_size=128, shuffle=True)\n",
    "test_loader  = DataLoader(dataset(10000), batch_size=128)"
   ]
  },
  {
   "cell_type": "markdown",
   "id": "ec245994",
   "metadata": {},
   "source": [
    "### the rest is done in tortto. Torch tensors will be converted to tortto tensor during training"
   ]
  },
  {
   "cell_type": "code",
   "execution_count": 4,
   "id": "8a0ebb4d",
   "metadata": {},
   "outputs": [],
   "source": [
    "import tortto as tt\n",
    "import tortto.nn as nn\n",
    "import tortto.nn.functional as F\n",
    "import tortto.optim as optim\n",
    "\n",
    "class PositionalEncoding(nn.Module):\n",
    "    def __init__(self, d_model, max_len=5000):\n",
    "        super().__init__()\n",
    "\n",
    "        # Create matrix of [SeqLen, HiddenDim] representing the positional encoding for max_len inputs\n",
    "        pe = tt.zeros((max_len, d_model))\n",
    "        position = tt.arange(0, max_len).unsqueeze(1)\n",
    "        div_term = tt.exp(-math.log(10000.0) * tt.arange(0, d_model, 2) / d_model)\n",
    "        pe[:, 0::2] = tt.sin(position * div_term)\n",
    "        pe[:, 1::2] = tt.cos(position * div_term)\n",
    "        pe = pe.unsqueeze(0)\n",
    "        self.register_buffer('pe', pe) # register as buffer so 'pe' can be transfered to gpu when calling cuda()\n",
    "\n",
    "    def forward(self, x):\n",
    "        x = x + self.pe[:, :x.size(1)]\n",
    "        return x"
   ]
  },
  {
   "cell_type": "code",
   "execution_count": 5,
   "id": "237a2a5e",
   "metadata": {},
   "outputs": [],
   "source": [
    "class TransformerPredictor(nn.Module):\n",
    "\n",
    "    def __init__(self, input_dim, model_dim, num_classes):\n",
    "        super().__init__()\n",
    "        self.embedding=nn.Embedding(num_classes, model_dim)\n",
    "        self.positional_encoding = PositionalEncoding(d_model=model_dim)\n",
    "        encoder_layer = nn.TransformerEncoderLayer(\n",
    "            d_model = model_dim,\n",
    "            nhead = 1,\n",
    "            dim_feedforward = 2 * model_dim,\n",
    "            dropout = 0,\n",
    "            batch_first = True\n",
    "        )\n",
    "        self.transformer = nn.TransformerEncoder(encoder_layer, num_layers=1)\n",
    "        self.output_net = nn.Linear(model_dim, num_classes)\n",
    "\n",
    "    def forward(self, x):\n",
    "        x = self.embedding(x)\n",
    "        x = self.positional_encoding(x)\n",
    "        x = self.transformer(x)\n",
    "        x = self.output_net(x)\n",
    "        x = F.log_softmax(x, -1)\n",
    "        return x"
   ]
  },
  {
   "cell_type": "code",
   "execution_count": 6,
   "id": "899dccd9",
   "metadata": {},
   "outputs": [],
   "source": [
    "model = TransformerPredictor(input_dim=num_categories,model_dim=2*seq_len,num_classes=num_categories).cuda()\n",
    "optimizer = optim.Adam(model.parameters(), lr=5e-4)\n",
    "criterion = nn.NLLLoss()"
   ]
  },
  {
   "cell_type": "code",
   "execution_count": 7,
   "id": "11f10e25",
   "metadata": {},
   "outputs": [
    {
     "name": "stderr",
     "output_type": "stream",
     "text": [
      "100%|████████████████████████████████████████████████████████████████████| 391/391 [00:10<00:00, 36.41it/s, loss=0.596]\n",
      "100%|███████████████████████████████████████████████████████████████████| 391/391 [00:09<00:00, 40.08it/s, loss=0.0563]\n",
      "100%|████████████████████████████████████████████████████████████████████| 391/391 [00:09<00:00, 39.98it/s, loss=0.013]\n",
      "100%|██████████████████████████████████████████████████████████████████| 391/391 [00:09<00:00, 39.36it/s, loss=0.00429]\n"
     ]
    }
   ],
   "source": [
    "for epoch in range(4):\n",
    "    model.train()\n",
    "    loop = tqdm(train_loader)\n",
    "    for inputs, labels in loop:\n",
    "        \n",
    "        inputs = tt.tensor(inputs.numpy()).cuda()\n",
    "        labels = tt.tensor(labels.numpy()).cuda()\n",
    "        \n",
    "        optimizer.zero_grad()\n",
    "        \n",
    "        outputs = model(inputs)\n",
    "        loss = criterion(outputs.swapaxes(-1,-2), labels)\n",
    "        acc = (outputs.argmax(dim=-1) == labels).mean()\n",
    "        loop.set_postfix({'loss':loss.item()})\n",
    "        \n",
    "        loss.backward()\n",
    "        optimizer.step()"
   ]
  },
  {
   "cell_type": "code",
   "execution_count": 8,
   "id": "8c50f2ad",
   "metadata": {},
   "outputs": [
    {
     "name": "stderr",
     "output_type": "stream",
     "text": [
      "100%|█████████████████████████████████████████████████████████████████████████████████| 79/79 [00:00<00:00, 190.25it/s]"
     ]
    },
    {
     "name": "stdout",
     "output_type": "stream",
     "text": [
      "test accuracy: 100.00%\n"
     ]
    },
    {
     "name": "stderr",
     "output_type": "stream",
     "text": [
      "\n"
     ]
    }
   ],
   "source": [
    "model.eval()\n",
    "loop=tqdm(test_loader)\n",
    "with tt.no_grad():\n",
    "    for inputs, labels in loop:\n",
    "\n",
    "        inputs = tt.tensor(inputs.numpy()).cuda()\n",
    "        labels = tt.tensor(labels.numpy()).cuda()\n",
    "\n",
    "        outputs = model(inputs)\n",
    "        acc = (outputs.argmax(dim=-1) == labels).mean()\n",
    "\n",
    "print(f'test accuracy: {acc.item()*100:.2f}%')"
   ]
  },
  {
   "cell_type": "markdown",
   "id": "199f0c90",
   "metadata": {},
   "source": [
    "### plot attention weight"
   ]
  },
  {
   "cell_type": "code",
   "execution_count": 9,
   "id": "7016f349",
   "metadata": {},
   "outputs": [
    {
     "data": {
      "image/png": "[encoded data removed]",
      "text/plain": [
       "<Figure size 360x360 with 1 Axes>"
      ]
     },
     "metadata": {
      "needs_background": "light"
     },
     "output_type": "display_data"
    }
   ],
   "source": [
    "x=model.positional_encoding((model.embedding(inputs)))\n",
    "out, w=model.transformer.layers[0].self_attn(x, x, x, need_weights=True)\n",
    "\n",
    "fig, ax = plt.subplots(figsize=(5,5))\n",
    "i = 0 # plot the i'th attn weight in the batch\n",
    "ax.imshow(w.data.get()[i])\n",
    "ax.xaxis.tick_top()\n",
    "inpt = inputs[i]\n",
    "ax.set_xticks(list(range(len(inpt))))\n",
    "ax.set_xticklabels([str(_) for _ in inpt.data.get()])\n",
    "ax.set_yticks(list(range(len(inpt))))\n",
    "ax.set_yticklabels([str(_) for _ in inpt.data.get()])\n",
    "ax.set_xlabel('Key')    \n",
    "ax.xaxis.set_label_position('top') \n",
    "ax.set_ylabel('Query')\n",
    "plt.show()"
   ]
  },
  {
   "cell_type": "markdown",
   "id": "373339a9",
   "metadata": {},
   "source": [
    "### output\n",
    "the brightest spot of each row is the output. The input is correctly reversed."
   ]
  },
  {
   "cell_type": "code",
   "execution_count": 10,
   "id": "f802d947",
   "metadata": {},
   "outputs": [
    {
     "data": {
      "image/png": "[encoded data removed]",
      "text/plain": [
       "<Figure size 360x360 with 1 Axes>"
      ]
     },
     "metadata": {
      "needs_background": "light"
     },
     "output_type": "display_data"
    }
   ],
   "source": [
    "fig, ax = plt.subplots(figsize=(5,5))\n",
    "ax.imshow(outputs.data.get()[i], cmap='gray')\n",
    "ax.set_xticks([])\n",
    "ax.set_yticks(list(range(len(labels[i]))))\n",
    "ax.set_yticklabels([str(_) for _ in labels[i].data.get()])\n",
    "plt.show()"
   ]
  },
  {
   "cell_type": "code",
   "execution_count": null,
   "id": "a11ac4dc",
   "metadata": {},
   "outputs": [],
   "source": []
  }
 ],
 "metadata": {
  "kernelspec": {
   "display_name": "Python 3 (ipykernel)",
   "language": "python",
   "name": "python3"
  },
  "language_info": {
   "codemirror_mode": {
    "name": "ipython",
    "version": 3
   },
   "file_extension": ".py",
   "mimetype": "text/x-python",
   "name": "python",
   "nbconvert_exporter": "python",
   "pygments_lexer": "ipython3",
   "version": "3.9.12"
  }
 },
 "nbformat": 4,
 "nbformat_minor": 5
}
