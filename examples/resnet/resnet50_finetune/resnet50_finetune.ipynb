{
 "cells": [
  {
   "cell_type": "code",
   "execution_count": 1,
   "metadata": {},
   "outputs": [],
   "source": [
    "import os\n",
    "import sys\n",
    "sys.path.append('../../../src')\n",
    "import time\n",
    "from datetime import datetime\n",
    "\n",
    "import matplotlib.pyplot as plt\n",
    "from matplotlib.offsetbox import OffsetImage, AnchoredOffsetbox\n",
    "from tqdm import tqdm # progress bar"
   ]
  },
  {
   "cell_type": "markdown",
   "metadata": {},
   "source": [
    "## some parameters"
   ]
  },
  {
   "cell_type": "code",
   "execution_count": 2,
   "metadata": {},
   "outputs": [],
   "source": [
    "batch_size = 32\n",
    "learning_rate = 1e-4\n",
    "momentum = 0.9\n",
    "epochs = 15"
   ]
  },
  {
   "cell_type": "markdown",
   "metadata": {},
   "source": [
    "## only use dataset and dataloader from pytorch\n",
    "tensors loaded using `pytorch` will be converted to `tortto` tensors later."
   ]
  },
  {
   "cell_type": "code",
   "execution_count": 3,
   "metadata": {},
   "outputs": [],
   "source": [
    "from numpy.random import choice\n",
    "from torch.utils.data import DataLoader, random_split, Subset\n",
    "from torchvision.datasets import CIFAR10\n",
    "from torchvision.transforms import Compose, RandomCrop, RandomHorizontalFlip, ToTensor, Normalize, Resize"
   ]
  },
  {
   "cell_type": "code",
   "execution_count": 4,
   "metadata": {},
   "outputs": [
    {
     "name": "stdout",
     "output_type": "stream",
     "text": [
      "Files already downloaded and verified\n",
      "Files already downloaded and verified\n",
      "Files already downloaded and verified\n",
      "size of train set 45000\n",
      "size of validation set 5000\n",
      "size of test set 10000\n"
     ]
    }
   ],
   "source": [
    "dataset_path = '../../cifar10_data'\n",
    "img_mean = (0.485, 0.456, 0.406)\n",
    "img_sd = (0.229, 0.224, 0.225)\n",
    "transform_aug = Compose([\n",
    "    RandomCrop(32, padding=4),\n",
    "    RandomHorizontalFlip(),\n",
    "    Resize((224,224)),\n",
    "    ToTensor(),\n",
    "    Normalize(img_mean, img_sd),\n",
    "])\n",
    "\n",
    "transform = Compose([\n",
    "    Resize((224,224)),\n",
    "    ToTensor(),\n",
    "    Normalize(img_mean, img_sd),\n",
    "])\n",
    "# create datasets\n",
    "train_dataset = CIFAR10(root=dataset_path, train=True, download=True, transform=transform_aug)\n",
    "val_dataset = CIFAR10(root=dataset_path, train=True, download=True, transform=transform)\n",
    "test_dataset = CIFAR10(root=dataset_path, train=False, download=True, transform=transform)\n",
    "\n",
    "# create dataloaders\n",
    "indices = choice(50_000, size=50_000, replace=False)\n",
    "train_idx, val_idx = indices[:45_000], indices[45_000:]\n",
    "train_loader = DataLoader(Subset(train_dataset, train_idx), batch_size=batch_size, shuffle=True, num_workers=4, pin_memory=True)\n",
    "val_loader = DataLoader(Subset(val_dataset, val_idx), batch_size=batch_size, shuffle=False, num_workers=4, pin_memory=True)\n",
    "test_loader = DataLoader(test_dataset, batch_size=batch_size, shuffle=False, num_workers=4, pin_memory=True)\n",
    "\n",
    "classes = ('plane', 'car', 'bird', 'cat', 'deer', 'dog', 'frog', 'horse', 'ship', 'truck')\n",
    "print('size of train set', len(train_idx))\n",
    "print('size of validation set', len(val_idx))\n",
    "print('size of test set', len(test_dataset))"
   ]
  },
  {
   "cell_type": "markdown",
   "metadata": {},
   "source": [
    "## the rest is done in pytortto"
   ]
  },
  {
   "cell_type": "code",
   "execution_count": 5,
   "metadata": {},
   "outputs": [],
   "source": [
    "import tortto as tt\n",
    "import tortto.nn as nn\n",
    "import tortto.nn.functional as F\n",
    "import tortto.optim as optim"
   ]
  },
  {
   "cell_type": "markdown",
   "metadata": {},
   "source": [
    "## define a network"
   ]
  },
  {
   "cell_type": "code",
   "execution_count": 6,
   "metadata": {},
   "outputs": [],
   "source": [
    "def conv3x3(in_channels, channels, stride=1):\n",
    "    return nn.Conv2d(in_channels, channels, kernel_size=3, stride=stride, padding=1, bias=False)\n",
    "\n",
    "\n",
    "def conv1x1(in_channels, channels, stride=1):\n",
    "    return nn.Conv2d(in_channels, channels, kernel_size=1, stride=stride, bias=False)\n",
    "\n",
    "\n",
    "class Bottleneck(nn.Module):\n",
    "    expansion = 4\n",
    "\n",
    "    def __init__(self, in_channels, channels, stride=1, downsample=None):\n",
    "        \"\"\"\n",
    "        in_channels: number of incoming channels.\n",
    "        channels: number of channels in the first layer of this block\n",
    "        \"\"\"\n",
    "        super(Bottleneck, self).__init__()\n",
    "        self.conv1 = conv1x1(in_channels, channels)\n",
    "        self.bn1 = nn.BatchNorm2d(channels)\n",
    "        self.conv2 = conv3x3(channels, channels, stride)\n",
    "        self.bn2 = nn.BatchNorm2d(channels)\n",
    "        self.conv3 = conv1x1(channels, channels * self.expansion)\n",
    "        self.bn3 = nn.BatchNorm2d(channels * self.expansion)\n",
    "\n",
    "        self.downsample = downsample\n",
    "\n",
    "    def forward(self, x):\n",
    "        \"\"\"\n",
    "        x---conv1,bn1,relu-->conv2,bn2,relu-->conv3,bn3---relu-->\n",
    "          |_____________ downsample_____________________|\n",
    "        \"\"\"\n",
    "        shortcut = x if self.downsample is None else self.downsample(x)\n",
    "        out = F.relu(self.bn1(self.conv1(x)))\n",
    "        out = F.relu(self.bn2(self.conv2(out)))\n",
    "        out = self.bn3(self.conv3(out))\n",
    "        return F.relu(out + shortcut)\n",
    "\n",
    "\n",
    "class ResNet(nn.Module):\n",
    "    def __init__(self, block, layers, channels):\n",
    "        \"\"\"\n",
    "        layers: number of residual blocks in each layer\n",
    "        channels: number of channels\n",
    "        \"\"\"\n",
    "        super(ResNet, self).__init__()\n",
    "        self.in_channels = channels[0]\n",
    "        self.conv1 = nn.Conv2d(3, self.in_channels, kernel_size=7, stride=2, padding=3, bias=False)\n",
    "        self.bn1 = nn.BatchNorm2d(self.in_channels)  # in_channels will increase accordingly after each _make_layer call\n",
    "        self.maxpool = nn.MaxPool2d(kernel_size=3, stride=2, padding=1)\n",
    "        \n",
    "        self.layer1 = self._make_layer(block, channels[0], layers[0])\n",
    "        self.layer2 = self._make_layer(block, channels[1], layers[1], stride=2)\n",
    "        self.layer3 = self._make_layer(block, channels[2], layers[2], stride=2)\n",
    "        self.layer4 = self._make_layer(block, channels[3], layers[3], stride=2)\n",
    "\n",
    "\n",
    "    def _make_layer(self, block, channels, blocks, stride=1):\n",
    "        downsample = nn.Sequential()\n",
    "        # for the first block of conv2_x, if bottleneck is used, there will be increase of channels\n",
    "        # so we need downsample\n",
    "        if stride != 1 or self.in_channels != channels * block.expansion:\n",
    "            downsample = nn.Sequential(\n",
    "                conv1x1(self.in_channels, channels * block.expansion, stride),\n",
    "                nn.BatchNorm2d(channels * block.expansion)\n",
    "            )\n",
    "\n",
    "        # append the first block in the layer\n",
    "        layers = [block(self.in_channels, channels, stride, downsample)]\n",
    "        self.in_channels = channels * block.expansion\n",
    "        for _ in range(1, blocks):\n",
    "            layers.append(block(self.in_channels, channels)  # stride=1\n",
    "            )\n",
    "        return nn.Sequential(*layers)\n",
    "\n",
    "    def forward(self, x):\n",
    "        x = self.conv1(x)\n",
    "        x = F.relu(self.bn1(x))\n",
    "        x = self.maxpool(x)\n",
    "        \n",
    "        x = self.layer1(x)\n",
    "        x = self.layer2(x)\n",
    "        x = self.layer3(x)\n",
    "        x = self.layer4(x)\n",
    "\n",
    "        x = tt.mean(x, (-1, -2), True)\n",
    "        x = tt.flatten(x, 1)\n",
    "        \n",
    "        x = F.log_softmax(self.classifier(x), -1)\n",
    "        \n",
    "        return x\n",
    "\n",
    "def resnet50():\n",
    "    return ResNet(Bottleneck, [3, 4, 6, 3], [64, 128, 256, 512])"
   ]
  },
  {
   "cell_type": "code",
   "execution_count": 7,
   "metadata": {
    "scrolled": true
   },
   "outputs": [
    {
     "name": "stdout",
     "output_type": "stream",
     "text": [
      "total trainable parameters: 23.53 million\n"
     ]
    }
   ],
   "source": [
    "net = resnet50()\n",
    "net.load_state_dict(tt.load('models/resnet50.npy'))\n",
    "net.classifier = nn.Linear(2048,10)\n",
    "net = net.cuda()\n",
    "print(f'total trainable parameters: {sum(_.numel() for _ in net.parameters())/1e6:.2f} million')\n",
    "\n",
    "criterion = nn.NLLLoss()\n",
    "optimizer = optim.SGD(net.parameters(), lr=learning_rate, momentum=momentum)"
   ]
  },
  {
   "cell_type": "markdown",
   "metadata": {},
   "source": [
    "## define functions for training and validation"
   ]
  },
  {
   "cell_type": "code",
   "execution_count": 8,
   "metadata": {},
   "outputs": [],
   "source": [
    "def calculate_loss(batch, correct, total):\n",
    "    inputs, labels = batch\n",
    "    \n",
    "    # convert pytorch tensor to tortto tensor\n",
    "    inpt = tt.tensor(inputs.numpy()).cuda()\n",
    "    lab = tt.tensor(labels.numpy()).cuda()\n",
    "    \n",
    "    # forward\n",
    "    outputs = net(inpt)\n",
    "    loss = criterion(outputs, lab)\n",
    "    \n",
    "    # prediction\n",
    "    predicted = outputs.argmax(-1)\n",
    "    correct += (predicted == lab).sum().item()\n",
    "    total += lab.shape[0]\n",
    "    \n",
    "    return loss, correct, total\n",
    "    \n",
    "    \n",
    "def train():\n",
    "    # train\n",
    "    net.train()\n",
    "    correct = 0\n",
    "    total = 0\n",
    "    loop = tqdm(train_loader)\n",
    "    train_loss = 0\n",
    "    for i, batch in enumerate(loop):\n",
    "\n",
    "        # zero the parameter gradients\n",
    "        optimizer.zero_grad()\n",
    "\n",
    "        loss, correct, total = calculate_loss(batch, correct, total)\n",
    "        \n",
    "        # accumulate loss\n",
    "        train_loss += loss.item()\n",
    "        \n",
    "        # backpropagation\n",
    "        loss.backward()\n",
    "\n",
    "        # update parameters\n",
    "        optimizer.step()\n",
    "\n",
    "    # keep track of train loss and train error\n",
    "    loss_history['train'].append(train_loss / (i + 1))\n",
    "    error_history['train'].append(100 * (1. - correct / total))\n",
    "    \n",
    "\n",
    "@tt.no_grad()\n",
    "def val_test(dataloader):\n",
    "    net.eval()\n",
    "    correct = 0\n",
    "    total_sample = 0\n",
    "    total_loss = 0\n",
    "    loop = tqdm(dataloader)\n",
    "    for i, batch in enumerate(loop):\n",
    "        \n",
    "        # cal loss\n",
    "        loss, correct, total_sample = calculate_loss(batch, correct, total_sample)\n",
    "        \n",
    "        # accumulate val loss\n",
    "        total_loss += loss.item()\n",
    "    \n",
    "    avg_loss = total_loss / (i + 1)\n",
    "    avg_error = 100 * (1. - correct / total_sample)\n",
    "    return avg_loss, avg_error\n",
    "\n",
    "    \n",
    "def save():\n",
    "    global lowest_error\n",
    "    # save checkpoint\n",
    "    if error_history['val'][-1] < lowest_error:\n",
    "        checkpoint = {\n",
    "            'model': net.state_dict()\n",
    "            }\n",
    "        tt.save(checkpoint, f'models/checkpoint_{str(epoch).zfill(3)}.npy')\n",
    "        lowest_error = error_history['val'][-1]\n",
    "    \n",
    "    # save loss, error history and log\n",
    "    tt.save(loss_history, 'logs/loss_history.npy')\n",
    "    tt.save(error_history, 'logs/error_history.npy')\n",
    "    with open('logs/log.txt','a') as f:\n",
    "        f.write('epoch{} finished at {}. val_loss: {:.4f} - val_error: {:.2f}%\\n'.\n",
    "                format(str(epoch).zfill(3), \n",
    "                       datetime.now().strftime(\"%m/%d/%Y, %H:%M:%S\"), \n",
    "                       loss_history['val'][-1], \n",
    "                       error_history['val'][-1]))"
   ]
  },
  {
   "cell_type": "markdown",
   "metadata": {},
   "source": [
    "## start training"
   ]
  },
  {
   "cell_type": "code",
   "execution_count": 9,
   "metadata": {
    "scrolled": true
   },
   "outputs": [
    {
     "name": "stderr",
     "output_type": "stream",
     "text": [
      "100%|██████████| 1407/1407 [20:41<00:00,  1.13it/s]\n",
      "100%|██████████| 157/157 [00:33<00:00,  4.67it/s]\n"
     ]
    },
    {
     "name": "stdout",
     "output_type": "stream",
     "text": [
      " - val_loss: 0.3619 - val_error: 9.82%\n",
      "\n"
     ]
    },
    {
     "name": "stderr",
     "output_type": "stream",
     "text": [
      "100%|██████████| 1407/1407 [20:39<00:00,  1.14it/s]\n",
      "100%|██████████| 157/157 [00:33<00:00,  4.65it/s]\n"
     ]
    },
    {
     "name": "stdout",
     "output_type": "stream",
     "text": [
      " - val_loss: 0.2204 - val_error: 6.60%\n",
      "\n"
     ]
    },
    {
     "name": "stderr",
     "output_type": "stream",
     "text": [
      "100%|██████████| 1407/1407 [20:39<00:00,  1.14it/s]\n",
      "100%|██████████| 157/157 [00:33<00:00,  4.66it/s]\n"
     ]
    },
    {
     "name": "stdout",
     "output_type": "stream",
     "text": [
      " - val_loss: 0.1738 - val_error: 5.50%\n",
      "\n"
     ]
    },
    {
     "name": "stderr",
     "output_type": "stream",
     "text": [
      "100%|██████████| 1407/1407 [20:39<00:00,  1.14it/s]\n",
      "100%|██████████| 157/157 [00:33<00:00,  4.67it/s]\n"
     ]
    },
    {
     "name": "stdout",
     "output_type": "stream",
     "text": [
      " - val_loss: 0.1498 - val_error: 4.74%\n",
      "\n"
     ]
    },
    {
     "name": "stderr",
     "output_type": "stream",
     "text": [
      "100%|██████████| 1407/1407 [20:39<00:00,  1.14it/s]\n",
      "100%|██████████| 157/157 [00:33<00:00,  4.66it/s]\n"
     ]
    },
    {
     "name": "stdout",
     "output_type": "stream",
     "text": [
      " - val_loss: 0.1358 - val_error: 4.24%\n",
      "\n"
     ]
    },
    {
     "name": "stderr",
     "output_type": "stream",
     "text": [
      "100%|██████████| 1407/1407 [20:39<00:00,  1.14it/s]\n",
      "100%|██████████| 157/157 [00:33<00:00,  4.65it/s]\n"
     ]
    },
    {
     "name": "stdout",
     "output_type": "stream",
     "text": [
      " - val_loss: 0.1300 - val_error: 4.34%\n",
      "\n"
     ]
    },
    {
     "name": "stderr",
     "output_type": "stream",
     "text": [
      "100%|██████████| 1407/1407 [20:39<00:00,  1.13it/s]\n",
      "100%|██████████| 157/157 [00:33<00:00,  4.67it/s]\n"
     ]
    },
    {
     "name": "stdout",
     "output_type": "stream",
     "text": [
      " - val_loss: 0.1267 - val_error: 4.08%\n",
      "\n"
     ]
    },
    {
     "name": "stderr",
     "output_type": "stream",
     "text": [
      "100%|██████████| 1407/1407 [20:39<00:00,  1.13it/s]\n",
      "100%|██████████| 157/157 [00:33<00:00,  4.66it/s]\n"
     ]
    },
    {
     "name": "stdout",
     "output_type": "stream",
     "text": [
      " - val_loss: 0.1153 - val_error: 3.66%\n",
      "\n"
     ]
    },
    {
     "name": "stderr",
     "output_type": "stream",
     "text": [
      "100%|██████████| 1407/1407 [20:39<00:00,  1.14it/s]\n",
      "100%|██████████| 157/157 [00:33<00:00,  4.66it/s]\n"
     ]
    },
    {
     "name": "stdout",
     "output_type": "stream",
     "text": [
      " - val_loss: 0.1100 - val_error: 3.58%\n",
      "\n"
     ]
    },
    {
     "name": "stderr",
     "output_type": "stream",
     "text": [
      "100%|██████████| 1407/1407 [20:39<00:00,  1.13it/s]\n",
      "100%|██████████| 157/157 [00:33<00:00,  4.66it/s]\n"
     ]
    },
    {
     "name": "stdout",
     "output_type": "stream",
     "text": [
      " - val_loss: 0.1144 - val_error: 3.62%\n",
      "\n"
     ]
    },
    {
     "name": "stderr",
     "output_type": "stream",
     "text": [
      "100%|██████████| 1407/1407 [20:39<00:00,  1.14it/s]\n",
      "100%|██████████| 157/157 [00:33<00:00,  4.67it/s]\n"
     ]
    },
    {
     "name": "stdout",
     "output_type": "stream",
     "text": [
      " - val_loss: 0.1113 - val_error: 3.74%\n",
      "\n"
     ]
    },
    {
     "name": "stderr",
     "output_type": "stream",
     "text": [
      "100%|██████████| 1407/1407 [20:39<00:00,  1.14it/s]\n",
      "100%|██████████| 157/157 [00:33<00:00,  4.67it/s]\n"
     ]
    },
    {
     "name": "stdout",
     "output_type": "stream",
     "text": [
      " - val_loss: 0.1035 - val_error: 3.32%\n",
      "\n"
     ]
    },
    {
     "name": "stderr",
     "output_type": "stream",
     "text": [
      "100%|██████████| 1407/1407 [20:39<00:00,  1.14it/s]\n",
      "100%|██████████| 157/157 [00:33<00:00,  4.67it/s]\n"
     ]
    },
    {
     "name": "stdout",
     "output_type": "stream",
     "text": [
      " - val_loss: 0.1042 - val_error: 3.34%\n",
      "\n"
     ]
    },
    {
     "name": "stderr",
     "output_type": "stream",
     "text": [
      "100%|██████████| 1407/1407 [20:39<00:00,  1.14it/s]\n",
      "100%|██████████| 157/157 [00:33<00:00,  4.66it/s]\n"
     ]
    },
    {
     "name": "stdout",
     "output_type": "stream",
     "text": [
      " - val_loss: 0.1035 - val_error: 3.32%\n",
      "\n"
     ]
    },
    {
     "name": "stderr",
     "output_type": "stream",
     "text": [
      "100%|██████████| 1407/1407 [20:39<00:00,  1.13it/s]\n",
      "100%|██████████| 157/157 [00:33<00:00,  4.67it/s]\n"
     ]
    },
    {
     "name": "stdout",
     "output_type": "stream",
     "text": [
      " - val_loss: 0.1045 - val_error: 3.26%\n",
      "\n"
     ]
    }
   ],
   "source": [
    "loss_history = {'train': [], 'val': []}\n",
    "error_history = {'train': [], 'val': []}\n",
    "\n",
    "if os.path.exists('logs/log.txt'):\n",
    "    raise OSError('Previous training logs already exist.')\n",
    "\n",
    "lowest_error = 100\n",
    "for epoch in range(epochs):\n",
    "    \n",
    "    # train\n",
    "    train()\n",
    "    \n",
    "    # validation\n",
    "    val_loss, val_error = val_test(val_loader)\n",
    "    loss_history['val'].append(val_loss)\n",
    "    error_history['val'].append(val_error)\n",
    "    print(' - val_loss: {:.4f} - val_error: {:.2f}%\\n'.format(loss_history['val'][-1], val_error))\n",
    "    \n",
    "    # save\n",
    "    save()"
   ]
  },
  {
   "cell_type": "markdown",
   "metadata": {},
   "source": [
    "## plot loss and error"
   ]
  },
  {
   "cell_type": "code",
   "execution_count": 10,
   "metadata": {},
   "outputs": [
    {
     "data": {
      "image/png": "[encoded data removed]",
      "text/plain": [
       "<Figure size 432x288 with 1 Axes>"
      ]
     },
     "metadata": {
      "needs_background": "light"
     },
     "output_type": "display_data"
    }
   ],
   "source": [
    "loss_history = tt.load('logs/loss_history.npy')\n",
    "plt.plot(loss_history['train'], 'r', label='train')\n",
    "plt.plot(loss_history['val'], 'b', label='val')\n",
    "plt.xlabel('epoch')\n",
    "plt.ylabel('loss')\n",
    "plt.title('loss history')\n",
    "plt.legend()\n",
    "plt.show()"
   ]
  },
  {
   "cell_type": "code",
   "execution_count": 11,
   "metadata": {},
   "outputs": [
    {
     "data": {
      "image/png": "[encoded data removed]",
      "text/plain": [
       "<Figure size 432x288 with 1 Axes>"
      ]
     },
     "metadata": {
      "needs_background": "light"
     },
     "output_type": "display_data"
    }
   ],
   "source": [
    "error_history = tt.load('logs/error_history.npy')\n",
    "plt.plot(error_history['train'], 'r', label='train')\n",
    "plt.plot(error_history['val'], 'b', label='val')\n",
    "plt.xlabel('epoch')\n",
    "plt.ylabel('error %')\n",
    "plt.title('error history')\n",
    "plt.legend()\n",
    "plt.show()"
   ]
  },
  {
   "cell_type": "markdown",
   "metadata": {},
   "source": [
    "## evaluation on test set"
   ]
  },
  {
   "cell_type": "code",
   "execution_count": 12,
   "metadata": {},
   "outputs": [
    {
     "data": {
      "text/plain": [
       "<All keys matched successfully>"
      ]
     },
     "execution_count": 12,
     "metadata": {},
     "output_type": "execute_result"
    }
   ],
   "source": [
    "# load checkpoint with the lowest validation error\n",
    "checkpoint = tt.load('models/checkpoint_014.npy')\n",
    "net.load_state_dict(checkpoint['model'])"
   ]
  },
  {
   "cell_type": "code",
   "execution_count": 13,
   "metadata": {},
   "outputs": [
    {
     "name": "stderr",
     "output_type": "stream",
     "text": [
      "100%|██████████| 313/313 [01:07<00:00,  4.65it/s]"
     ]
    },
    {
     "name": "stdout",
     "output_type": "stream",
     "text": [
      "Test error: 3.69%\n"
     ]
    },
    {
     "name": "stderr",
     "output_type": "stream",
     "text": [
      "\n"
     ]
    }
   ],
   "source": [
    "_, test_error = val_test(test_loader)\n",
    "print(f'Test error: {test_error:.2f}%')"
   ]
  },
  {
   "cell_type": "code",
   "execution_count": null,
   "metadata": {},
   "outputs": [],
   "source": []
  }
 ],
 "metadata": {
  "environment": {
   "kernel": "python3",
   "name": "pytorch-gpu.1-11.m93",
   "type": "gcloud",
   "uri": "gcr.io/deeplearning-platform-release/pytorch-gpu.1-11:m93"
  },
  "kernelspec": {
   "display_name": "Python 3 (ipykernel)",
   "language": "python",
   "name": "python3"
  },
  "language_info": {
   "codemirror_mode": {
    "name": "ipython",
    "version": 3
   },
   "file_extension": ".py",
   "mimetype": "text/x-python",
   "name": "python",
   "nbconvert_exporter": "python",
   "pygments_lexer": "ipython3",
   "version": "3.9.12"
  }
 },
 "nbformat": 4,
 "nbformat_minor": 4
}
