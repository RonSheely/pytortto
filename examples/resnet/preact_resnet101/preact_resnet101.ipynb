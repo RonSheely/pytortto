{
 "cells": [
  {
   "cell_type": "markdown",
   "metadata": {},
   "source": [
    "This example uses a dataset called CIFAR10. It has 10 classes: ‘airplane’, ‘automobile’, ‘bird’, ‘cat’, ‘deer’, ‘dog’, ‘frog’, ‘horse’, ‘ship’, ‘truck’. The images in CIFAR-10 are of size 3x32x32, i.e. 3-channel color images of 32x32 pixels in size.  \n",
    "\n",
    "The goal is to train a classifier that can predict the labels of those images with an accuracy better than chance (10%). The final test accuracy of the network is 94.78%."
   ]
  },
  {
   "cell_type": "code",
   "execution_count": 1,
   "metadata": {},
   "outputs": [],
   "source": [
    "import os\n",
    "import sys\n",
    "import time\n",
    "from datetime import datetime\n",
    "\n",
    "import matplotlib.pyplot as plt\n",
    "from matplotlib.offsetbox import OffsetImage, AnchoredOffsetbox\n",
    "from tqdm import tqdm # progress bar\n",
    "\n",
    "sys.path.append('../../../src')"
   ]
  },
  {
   "cell_type": "markdown",
   "metadata": {},
   "source": [
    "## some parameters"
   ]
  },
  {
   "cell_type": "code",
   "execution_count": 2,
   "metadata": {},
   "outputs": [],
   "source": [
    "batch_size = 128\n",
    "learning_rate = 0.01\n",
    "epochs = 200\n",
    "\n",
    "# SGD optimizer\n",
    "momentum = 0.9\n",
    "weight_decay = 5e-4"
   ]
  },
  {
   "cell_type": "markdown",
   "metadata": {},
   "source": [
    "## only use dataset and dataloader from pytorch\n",
    "tensors loaded using `pytorch` will be converted to `tortto` tensors later."
   ]
  },
  {
   "cell_type": "code",
   "execution_count": 3,
   "metadata": {},
   "outputs": [],
   "source": [
    "from numpy.random import choice\n",
    "from torch.utils.data import DataLoader, random_split, Subset\n",
    "from torchvision.datasets import CIFAR10\n",
    "from torchvision.transforms import Compose, RandomCrop, RandomHorizontalFlip, ToTensor, Normalize"
   ]
  },
  {
   "cell_type": "code",
   "execution_count": 4,
   "metadata": {},
   "outputs": [
    {
     "name": "stdout",
     "output_type": "stream",
     "text": [
      "Files already downloaded and verified\n",
      "Files already downloaded and verified\n",
      "Files already downloaded and verified\n",
      "size of train set 45000\n",
      "size of validation set 5000\n",
      "size of test set 10000\n"
     ]
    }
   ],
   "source": [
    "dataset_path = '../../cifar10_data'\n",
    "img_mean = (0.49139968, 0.48215841, 0.44653091)\n",
    "img_sd = (0.24703223, 0.24348513, 0.26158784)\n",
    "transform_aug = Compose([\n",
    "    RandomCrop(32, padding=4),\n",
    "    RandomHorizontalFlip(),\n",
    "    ToTensor(),\n",
    "    Normalize(img_mean, img_sd),\n",
    "])\n",
    "transform = Compose([\n",
    "    ToTensor(),\n",
    "    Normalize(img_mean, img_sd)\n",
    "])\n",
    "# create datasets\n",
    "train_dataset = CIFAR10(root=dataset_path, train=True, download=True, transform=transform_aug)\n",
    "val_dataset = CIFAR10(root=dataset_path, train=True, download=True, transform=transform)\n",
    "test_dataset = CIFAR10(root=dataset_path, train=False, download=True, transform=transform)\n",
    "\n",
    "# create dataloaders\n",
    "indices = choice(50_000, size=50_000, replace=False)\n",
    "train_idx, val_idx = indices[:45_000], indices[45_000:]\n",
    "train_loader = DataLoader(Subset(train_dataset, train_idx), batch_size=batch_size, shuffle=True, num_workers=4, pin_memory=True)\n",
    "val_loader = DataLoader(Subset(val_dataset, val_idx), batch_size=batch_size, shuffle=False, num_workers=4, pin_memory=True)\n",
    "test_loader = DataLoader(test_dataset, batch_size=batch_size, shuffle=False, num_workers=4, pin_memory=True)\n",
    "\n",
    "classes = ('plane', 'car', 'bird', 'cat', 'deer', 'dog', 'frog', 'horse', 'ship', 'truck')\n",
    "print('size of train set', len(train_idx))\n",
    "print('size of validation set', len(val_idx))\n",
    "print('size of test set', len(test_dataset))"
   ]
  },
  {
   "cell_type": "markdown",
   "metadata": {},
   "source": [
    "## the rest is done in pytortto"
   ]
  },
  {
   "cell_type": "code",
   "execution_count": 5,
   "metadata": {},
   "outputs": [],
   "source": [
    "import tortto as tt\n",
    "import tortto.nn as nn\n",
    "import tortto.nn.functional as F\n",
    "import tortto.optim as optim"
   ]
  },
  {
   "cell_type": "markdown",
   "metadata": {},
   "source": [
    "## define a network"
   ]
  },
  {
   "cell_type": "code",
   "execution_count": 6,
   "metadata": {},
   "outputs": [],
   "source": [
    "def conv3x3(in_channels, channels, stride=1):\n",
    "    return nn.Conv2d(in_channels, channels, kernel_size=3, stride=stride, padding=1, bias=False)\n",
    "\n",
    "\n",
    "def conv1x1(in_channels, channels, stride=1):\n",
    "    return nn.Conv2d(in_channels, channels, kernel_size=1, stride=stride, bias=False)\n",
    "\n",
    "\n",
    "class Bottleneck(nn.Module):\n",
    "    expansion = 4\n",
    "\n",
    "    def __init__(self, in_channels, channels, stride=1, downsample=None):\n",
    "        \"\"\"\n",
    "        in_channels: number of incoming channels.\n",
    "        channels: number of channels in the first layer of this block\n",
    "        \"\"\"\n",
    "        super(Bottleneck, self).__init__()\n",
    "        self.bn1 = nn.BatchNorm2d(in_channels)\n",
    "        \n",
    "        self.conv1 = conv1x1(in_channels, channels)\n",
    "        self.bn2 = nn.BatchNorm2d(channels)\n",
    "        self.conv2 = conv3x3(channels, channels, stride)\n",
    "        self.bn3 = nn.BatchNorm2d(channels)\n",
    "        self.conv3 = conv1x1(channels, channels * self.expansion)\n",
    "\n",
    "        self.downsample = downsample\n",
    "\n",
    "    def forward(self, x):\n",
    "        \"\"\"\n",
    "        x--->bn---->residual_block----->\n",
    "          |_________________________|\n",
    "        \"\"\"\n",
    "        out = F.relu(self.bn1(x))\n",
    "        shortcut = x if self.downsample is None else self.downsample(x)\n",
    "        out = self.conv1(out)\n",
    "        out = self.conv2(F.relu(self.bn2(out)))\n",
    "        out = self.conv3(F.relu(self.bn3(out)))\n",
    "        return out + shortcut\n",
    "\n",
    "\n",
    "class PreactResNet(nn.Module):\n",
    "    def __init__(self, block, layers, channels, num_classes):\n",
    "        \"\"\"\n",
    "        layers: number of residual blocks in each layer\n",
    "        channels: number of channels\n",
    "        \"\"\"\n",
    "        super(PreactResNet, self).__init__()\n",
    "        self.in_channels = channels[0]\n",
    "        self.conv1 = conv3x3(3, self.in_channels)\n",
    "        self.layer1 = self._make_layer(block, channels[0], layers[0])\n",
    "        self.layer2 = self._make_layer(block, channels[1], layers[1], stride=2)\n",
    "        self.layer3 = self._make_layer(block, channels[2], layers[2], stride=2)\n",
    "        self.layer4 = self._make_layer(block, channels[3], layers[3], stride=2)\n",
    "        self.bn = nn.BatchNorm2d(self.in_channels)  # in_channels will increase accordingly after each _make_layer call\n",
    "        self.fc = nn.Linear(self.in_channels, num_classes)\n",
    "\n",
    "    def _make_layer(self, block, channels, blocks, stride=1):\n",
    "        downsample = nn.Sequential()\n",
    "        # for the first block of conv2_x, if bottleneck is used, there will be increase of channels\n",
    "        # so we need downsample\n",
    "        if stride != 1 or self.in_channels != channels * block.expansion:\n",
    "            downsample = conv1x1(self.in_channels, channels * block.expansion, stride)\n",
    "\n",
    "        # append the first block in the layer\n",
    "        layers = [block(self.in_channels, channels, stride, downsample)]\n",
    "        self.in_channels = channels * block.expansion\n",
    "        for _ in range(1, blocks):\n",
    "            layers.append(block(self.in_channels, channels)  # stride=1\n",
    "            )\n",
    "        return nn.Sequential(*layers)\n",
    "\n",
    "    def forward(self, x):\n",
    "        x = self.conv1(x)\n",
    "\n",
    "        x = self.layer1(x)\n",
    "        x = self.layer2(x)\n",
    "        x = self.layer3(x)\n",
    "        x = self.layer4(x)\n",
    "        x = F.relu(self.bn(x))\n",
    "\n",
    "        x = tt.mean(x, (-1, -2), True)\n",
    "        x = tt.flatten(x, 1)\n",
    "        x = F.log_softmax(self.fc(x), -1)\n",
    "\n",
    "        return x\n",
    "\n",
    "def preact_resnet50(num_classes=10):\n",
    "    return PreactResNet(Bottleneck, [3, 4, 6, 3], [64, 128, 256, 512], num_classes)\n",
    "\n",
    "def preact_resnet101(num_classes=10):\n",
    "    return PreactResNet(Bottleneck, [3, 4, 23, 3], [64, 128, 256, 512], num_classes)"
   ]
  },
  {
   "cell_type": "code",
   "execution_count": 7,
   "metadata": {
    "scrolled": true
   },
   "outputs": [
    {
     "name": "stdout",
     "output_type": "stream",
     "text": [
      "total trainable parameters: 42.51 million\n"
     ]
    }
   ],
   "source": [
    "# net = preact_resnet50().cuda()\n",
    "net = preact_resnet101().cuda()\n",
    "criterion = nn.NLLLoss()\n",
    "optimizer = optim.SGD(net.parameters(), lr=learning_rate, momentum=momentum, weight_decay=weight_decay)\n",
    "scheduler = optim.lr_scheduler.CosineAnnealingLR(optimizer, T_max=epochs)\n",
    "print(f'total trainable parameters: {sum(_.numel() for _ in net.parameters())/1e6:.2f} million')"
   ]
  },
  {
   "cell_type": "markdown",
   "metadata": {},
   "source": [
    "## define functions for training and validation"
   ]
  },
  {
   "cell_type": "code",
   "execution_count": 8,
   "metadata": {},
   "outputs": [],
   "source": [
    "def calculate_loss(batch, correct, total):\n",
    "    inputs, labels = batch\n",
    "    \n",
    "    # convert pytorch tensor to tortto tensor\n",
    "    inpt = tt.tensor(inputs.numpy()).cuda()\n",
    "    lab = tt.tensor(labels.numpy()).cuda()\n",
    "    \n",
    "    # forward\n",
    "    outputs = net(inpt)\n",
    "    loss = criterion(outputs, lab)\n",
    "    \n",
    "    # prediction\n",
    "    predicted = outputs.argmax(-1)\n",
    "    correct += (predicted == lab).sum().item()\n",
    "    total += lab.shape[0]\n",
    "    \n",
    "    return loss, correct, total\n",
    "    \n",
    "    \n",
    "def train():\n",
    "    # train\n",
    "    net.train()\n",
    "    correct = 0\n",
    "    total = 0\n",
    "    loop = tqdm(train_loader)\n",
    "    train_loss = 0\n",
    "    for i, batch in enumerate(loop):\n",
    "\n",
    "        # zero the parameter gradients\n",
    "        optimizer.zero_grad()\n",
    "\n",
    "        loss, correct, total = calculate_loss(batch, correct, total)\n",
    "        \n",
    "        # accumulate loss\n",
    "        train_loss += loss.item()\n",
    "\n",
    "        # backpropagation\n",
    "        loss.backward()\n",
    "\n",
    "        # update parameters\n",
    "        optimizer.step()\n",
    "\n",
    "    # keep track of train loss and train error\n",
    "    loss_history['train'].append(train_loss / (i + 1))\n",
    "    error_history['train'].append(100 * (1. - correct / total))\n",
    "    \n",
    "\n",
    "@tt.no_grad()\n",
    "def val_test(dataloader):\n",
    "    net.eval()\n",
    "    correct = 0\n",
    "    total_sample = 0\n",
    "    total_loss = 0\n",
    "    loop = tqdm(dataloader)\n",
    "    for i, batch in enumerate(loop):\n",
    "        \n",
    "        # cal loss\n",
    "        loss, correct, total_sample = calculate_loss(batch, correct, total_sample)\n",
    "        \n",
    "        # accumulate val loss\n",
    "        total_loss += loss.item()\n",
    "    \n",
    "    avg_loss = total_loss / (i + 1)\n",
    "    avg_error = 100 * (1. - correct / total_sample)\n",
    "    return avg_loss, avg_error\n",
    "\n",
    "    \n",
    "def save():\n",
    "    global lowest_error\n",
    "    # save checkpoint\n",
    "    if epoch > 120 and error_history['val'][-1] < lowest_error:\n",
    "        checkpoint = {\n",
    "            'model': net.state_dict(),\n",
    "            'optimizer': optimizer.state_dict(),\n",
    "            'scheduler': scheduler.state_dict(),\n",
    "            'train_idx': train_idx,\n",
    "            'val_idx': val_idx\n",
    "            }\n",
    "        tt.save(checkpoint, f'models/checkpoint_{str(epoch).zfill(3)}.npy')\n",
    "        lowest_error = error_history['val'][-1]\n",
    "    \n",
    "    # save loss, error history and log\n",
    "    tt.save(loss_history, 'logs/loss_history.npy')\n",
    "    tt.save(error_history, 'logs/error_history.npy')\n",
    "    with open('logs/log.txt','a') as f:\n",
    "        f.write('epoch{} finished at {}. val_loss: {:.4f} - val_error: {:.2f}%\\n'.\n",
    "                format(str(epoch).zfill(3), \n",
    "                       datetime.now().strftime(\"%m/%d/%Y, %H:%M:%S\"), \n",
    "                       loss_history['val'][-1], \n",
    "                       error_history['val'][-1]))"
   ]
  },
  {
   "cell_type": "markdown",
   "metadata": {},
   "source": [
    "## start training\n",
    "This cell is empty because Jupyter notebook can't run in google cloud while hang up. Codes are copied to a .py file and use `nohup` command to train.  \n",
    "The best model, error and loss history are recorded."
   ]
  },
  {
   "cell_type": "code",
   "execution_count": null,
   "metadata": {},
   "outputs": [],
   "source": [
    "loss_history = {'train': [], 'val': []}\n",
    "error_history = {'train': [], 'val': []}\n",
    "\n",
    "if os.path.exists('logs/log.txt'):\n",
<<<<<<< HEAD
    "    raise OSError('log.txt already exists')\n",
=======
    "    raise OSError('Previous training logs already exist.')\n",
>>>>>>> main
    "\n",
    "lowest_error = 100\n",
    "warmup = 1\n",
    "for epoch in range(epochs):\n",
    "    if epoch < warmup:\n",
    "        optimizer.param_groups[0]['lr'] = learning_rate / 10\n",
    "    elif epoch == warmup:\n",
    "        optimizer.param_groups[0]['lr'] = learning_rate\n",
    "    \n",
    "    # train\n",
    "    train()\n",
    "    \n",
    "    # validation\n",
    "    val_loss, val_error = val_test(val_loader)\n",
    "    loss_history['val'].append(val_loss)\n",
    "    error_history['val'].append(val_error)\n",
    "    print(' - val_loss: {:.4f} - val_error: {:.2f}%\\n'.format(loss_history['val'][-1], val_error))\n",
    "    \n",
    "    # save\n",
    "    save()\n",
    "    \n",
    "    # step scheduler\n",
    "    scheduler.step()"
   ]
  },
  {
   "cell_type": "markdown",
   "metadata": {},
   "source": [
    "## plot loss and error"
   ]
  },
  {
   "cell_type": "code",
   "execution_count": 9,
   "metadata": {},
   "outputs": [
    {
     "data": {
      "image/png": "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\n",
      "text/plain": [
       "<Figure size 432x288 with 1 Axes>"
      ]
     },
     "metadata": {
      "needs_background": "light"
     },
     "output_type": "display_data"
    }
   ],
   "source": [
    "loss_history = tt.load('logs/loss_history.npy')\n",
    "plt.plot(loss_history['train'], 'r', label='train')\n",
    "plt.plot(loss_history['val'], 'b', label='val')\n",
    "plt.xlabel('epoch')\n",
    "plt.ylabel('loss')\n",
    "plt.title('loss history')\n",
    "plt.legend()\n",
    "plt.show()"
   ]
  },
  {
   "cell_type": "code",
   "execution_count": 10,
   "metadata": {},
   "outputs": [
    {
     "data": {
      "image/png": "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\n",
      "text/plain": [
       "<Figure size 432x288 with 1 Axes>"
      ]
     },
     "metadata": {
      "needs_background": "light"
     },
     "output_type": "display_data"
    }
   ],
   "source": [
    "error_history = tt.load('logs/error_history.npy')\n",
    "plt.plot(error_history['train'], 'r', label='train')\n",
    "plt.plot(error_history['val'], 'b', label='val')\n",
    "plt.xlabel('epoch')\n",
    "plt.ylabel('error %')\n",
    "plt.title('error history')\n",
    "plt.legend()\n",
    "plt.show()"
   ]
  },
  {
   "cell_type": "markdown",
   "metadata": {},
   "source": [
    "## evaluation on test set"
   ]
  },
  {
   "cell_type": "code",
   "execution_count": 11,
   "metadata": {},
   "outputs": [
    {
     "data": {
      "text/plain": [
       "<All keys matched successfully>"
      ]
     },
     "execution_count": 11,
     "metadata": {},
     "output_type": "execute_result"
    }
   ],
   "source": [
    "# load checkpoint with the lowest validation error\n",
<<<<<<< HEAD
    "checkpoint = tt.load('modesl/checkpoint_190.npy')\n",
=======
    "checkpoint = tt.load('models/checkpoint_190.npy')\n",
>>>>>>> main
    "net.load_state_dict(checkpoint['model'])"
   ]
  },
  {
   "cell_type": "code",
   "execution_count": 12,
   "metadata": {},
   "outputs": [
    {
     "name": "stderr",
     "output_type": "stream",
     "text": [
      "100%|██████████| 79/79 [00:27<00:00,  2.83it/s]"
     ]
    },
    {
     "name": "stdout",
     "output_type": "stream",
     "text": [
      "Test error: 5.22%\n"
     ]
    },
    {
     "name": "stderr",
     "output_type": "stream",
     "text": [
      "\n"
     ]
    }
   ],
   "source": [
    "_, test_error = val_test(test_loader)\n",
    "print(f'Test error: {test_error:.2f}%')"
   ]
  },
  {
   "cell_type": "markdown",
   "metadata": {},
   "source": [
    "## plot predictions along with probabilities"
   ]
  },
  {
   "cell_type": "code",
   "execution_count": null,
   "metadata": {},
   "outputs": [],
   "source": [
    "# https://stackoverflow.com/questions/44550764/how-can-i-embed-an-image-on-each-of-my-subplots-in-matplotlib\n",
    "def place_image(im, loc=3, ax=None, zoom=1, **kw):\n",
    "    if ax == None: ax = plt.gca()\n",
    "    imagebox = OffsetImage(im, zoom=zoom)\n",
    "    ab = AnchoredOffsetbox(loc=loc, child=imagebox, frameon=False, **kw)\n",
    "    ax.add_artist(ab)\n",
    "\n",
    "\n",
    "inputs, labels = next(iter(test_loader))\n",
    "inpt = tt.tensor(inputs.numpy()).cuda()\n",
    "lab = tt.tensor(labels.numpy()).cuda()\n",
    "with tt.no_grad():\n",
    "    outputs = net(inpt)\n",
    "predicted = outputs.argmax(-1)\n",
    "\n",
    "images = inpt.moveaxis(-3, -1).cpu().numpy()\n",
    "prob = outputs.exp().detach().cpu().numpy()\n",
    "fig, axs = plt.subplots(4, 4, figsize=(12, 15))\n",
    "fig.tight_layout()\n",
    "plt.subplots_adjust(top=1)\n",
    "figure_loc = {_: 'upper left' for _ in range(16)}\n",
    "for n in (0, 3, 6, 8, 9, 10):\n",
    "    figure_loc[n] = 'upper right'\n",
    "\n",
    "for n, ax in enumerate(axs.flat):\n",
    "    ax.bar(classes, prob[n])\n",
    "    ax.tick_params('x', labelrotation=45)\n",
    "    ax.set_ylim([0, 1.1])\n",
    "    ax.set_aspect(10)\n",
    "    ax.set_title(f'pred:{classes[predicted[n].item()]} | Truth:{classes[lab[n].item()]}')\n",
    "\n",
    "    place_image((img_sd * images[n] + img_mean).clip(0,1), loc=figure_loc[n], ax=ax, pad=0, zoom=2.5)"
   ]
  },
  {
   "cell_type": "code",
   "execution_count": null,
   "metadata": {},
   "outputs": [],
   "source": []
  }
 ],
 "metadata": {
  "environment": {
   "kernel": "python3",
   "name": "pytorch-gpu.1-11.m93",
   "type": "gcloud",
   "uri": "gcr.io/deeplearning-platform-release/pytorch-gpu.1-11:m93"
  },
  "kernelspec": {
   "display_name": "Python 3 (ipykernel)",
   "language": "python",
   "name": "python3"
  },
  "language_info": {
   "codemirror_mode": {
    "name": "ipython",
    "version": 3
   },
   "file_extension": ".py",
   "mimetype": "text/x-python",
   "name": "python",
   "nbconvert_exporter": "python",
   "pygments_lexer": "ipython3",
   "version": "3.9.12"
  }
 },
 "nbformat": 4,
 "nbformat_minor": 4
}
