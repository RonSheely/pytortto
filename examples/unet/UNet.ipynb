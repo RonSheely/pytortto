{
 "cells": [
  {
   "cell_type": "markdown",
   "metadata": {},
   "source": [
    "This example uses the carvana dataset. Images and masks are resized to 3x64x64."
   ]
  },
  {
   "cell_type": "code",
   "execution_count": 1,
   "metadata": {},
   "outputs": [],
   "source": [
    "import os\n",
    "import pickle\n",
    "import sys\n",
    "import time\n",
    "from datetime import datetime\n",
    "\n",
    "import matplotlib.pyplot as plt\n",
    "import numpy as np\n",
    "from tqdm import tqdm  # progress bar\n",
    "\n",
    "sys.path.append('../../src')"
   ]
  },
  {
   "cell_type": "markdown",
   "metadata": {},
   "source": [
    "## some parameters"
   ]
  },
  {
   "cell_type": "code",
   "execution_count": 2,
   "metadata": {},
   "outputs": [],
   "source": [
    "batch_size = 32\n",
    "learning_rate = 1e-3\n",
    "epochs = 20"
   ]
  },
  {
   "cell_type": "markdown",
   "metadata": {},
   "source": [
    "## only use dataset and dataloader from pytorch"
   ]
  },
  {
   "cell_type": "code",
   "execution_count": 3,
   "metadata": {},
   "outputs": [],
   "source": [
    "from albumentations import Compose, Rotate, HorizontalFlip, VerticalFlip\n",
    "from albumentations.pytorch import ToTensorV2\n",
    "from torch.utils.data import DataLoader\n",
    "from torch.utils.data import Dataset\n",
    "from torch.utils.data import random_split\n",
    "from torchvision.datasets.utils import download_url, extract_archive, check_integrity"
   ]
  },
  {
   "cell_type": "markdown",
   "metadata": {},
   "source": [
    "## create dataset"
   ]
  },
  {
   "cell_type": "code",
   "execution_count": 4,
   "metadata": {},
   "outputs": [],
   "source": [
    "class CarvanaDataset(Dataset):\n",
    "    def __init__(self, root, train=True, transform=None):\n",
    "\n",
    "        fn = 'train64' if train else 'test64'\n",
    "        with open(f'{root}/{fn}', 'rb') as f:\n",
    "            data = pickle.load(f)\n",
    "        self.images = (data['images'] / 255).astype(np.float32)\n",
    "        self.masks = data['masks'].astype(np.float32)\n",
    "        self.transform = transform\n",
    "\n",
    "    def __len__(self):\n",
    "        return len(self.images)\n",
    "\n",
    "    def __getitem__(self, index):\n",
    "        image = self.images[index].reshape(64, 64, 3)\n",
    "        mask = self.masks[index].reshape(64, 64)\n",
    "\n",
    "        if self.transform is not None:\n",
    "            augmentations = self.transform(image=image, mask=mask)\n",
    "            image = augmentations[\"image\"]\n",
    "            mask = augmentations[\"mask\"][None, ...]\n",
    "        return image, mask"
   ]
  },
  {
   "cell_type": "code",
   "execution_count": 5,
   "metadata": {},
   "outputs": [
    {
     "name": "stdout",
     "output_type": "stream",
     "text": [
      "size of train set 3658\n",
      "size of validation set 646\n",
      "size of test set 784\n"
     ]
    }
   ],
   "source": [
    "transform_augmented = Compose([\n",
    "    Rotate(limit=35, p=1.0),\n",
    "    HorizontalFlip(p=0.5),\n",
    "    VerticalFlip(p=0.1),\n",
    "    ToTensorV2()])\n",
    "\n",
    "transform = Compose([\n",
    "    ToTensorV2()])\n",
    "\n",
    "valset, trainset = random_split(CarvanaDataset('./carvana_data', train=True, transform=transform_augmented), [646, 3658])\n",
    "train_loader = DataLoader(trainset, batch_size=batch_size, shuffle=True)\n",
    "val_loader = DataLoader(valset, batch_size=batch_size, shuffle=False)\n",
    "\n",
    "testset = CarvanaDataset('./carvana_data', train=False, transform=transform)\n",
    "test_loader = DataLoader(testset, batch_size=batch_size, shuffle=True) # shuffle to show different types of cars\n",
    "\n",
    "print('size of train set', len(trainset))\n",
    "print('size of validation set', len(valset))\n",
    "print('size of test set', len(testset))"
   ]
  },
  {
   "cell_type": "markdown",
   "metadata": {},
   "source": [
    "## the rest is done in pytortto\n",
    "tensors loaded using `pytorch` will be converted to `tortto` tensors."
   ]
  },
  {
   "cell_type": "code",
   "execution_count": 6,
   "metadata": {},
   "outputs": [],
   "source": [
    "import tortto as tt\n",
    "import tortto.nn as nn\n",
    "import tortto.nn.functional as F\n",
    "import tortto.optim as optim"
   ]
  },
  {
   "cell_type": "markdown",
   "metadata": {},
   "source": [
    "## define the model: U-Net"
   ]
  },
  {
   "cell_type": "code",
   "execution_count": 7,
   "metadata": {},
   "outputs": [],
   "source": [
    "class DoubleConv(nn.Module):\n",
    "    def __init__(self, in_channels, out_channels):\n",
    "        super(DoubleConv, self).__init__()\n",
    "        self.conv = nn.Sequential(\n",
    "            nn.Conv2d(in_channels, out_channels, kernel_size=3, padding=1),\n",
    "            nn.BatchNorm2d(out_channels),\n",
    "            nn.ReLU(),\n",
    "            nn.Conv2d(out_channels, out_channels, kernel_size=3, padding=1),\n",
    "            nn.BatchNorm2d(out_channels),\n",
    "            nn.ReLU()\n",
    "        )\n",
    "\n",
    "    def forward(self, x):\n",
    "        return self.conv(x)\n",
    "\n",
    "\n",
    "class UNet(nn.Module):\n",
    "    def __init__(self, in_channels, out_channels, features):\n",
    "        super(UNet, self).__init__()\n",
    "        self.down = nn.ModuleList()\n",
    "        self.up = nn.ModuleList()\n",
    "        self.pool = nn.MaxPool2d(2, 2)\n",
    "        for f in features:\n",
    "            self.down.append(DoubleConv(in_channels, f))\n",
    "            in_channels = f\n",
    "        self.bottle_neck = DoubleConv(f, 2 * f)\n",
    "        for f in reversed(features):\n",
    "            self.up.append(nn.ConvTranspose2d(2 * f, f, kernel_size=2, stride=2))\n",
    "            self.up.append(DoubleConv(2 * f, f))\n",
    "        self.out = nn.Conv2d(f, out_channels, kernel_size=1)\n",
    "\n",
    "    def forward(self, x):\n",
    "        skip_connections = []\n",
    "        for m in self.down:\n",
    "            x = m(x)\n",
    "            skip_connections.append(x)\n",
    "            x = self.pool(x)\n",
    "        x = self.bottle_neck(x)\n",
    "        skip_connections = skip_connections[::-1]\n",
    "        for i in range(0, len(self.up), 2):\n",
    "            skip_connection = skip_connections[i // 2]\n",
    "            x = self.up[i](x, output_size=skip_connection.shape[-2:])  # upsample\n",
    "            x = tt.cat([skip_connections[i // 2], x], dim=1)  # cat\n",
    "            x = self.up[i + 1](x)  # double conv\n",
    "        x = self.out(x)\n",
    "        return x"
   ]
  },
  {
   "cell_type": "code",
   "execution_count": 8,
   "metadata": {
    "scrolled": true
   },
   "outputs": [],
   "source": [
    "net = UNet(in_channels=3, out_channels=1, features=[32,64,128,256]).cuda()\n",
    "criterion = nn.BCEWithLogitsLoss()\n",
    "optimizer = optim.Adam(net.parameters(), lr=learning_rate)"
   ]
  },
  {
   "cell_type": "markdown",
   "metadata": {},
   "source": [
    "## define functions for training and validation"
   ]
  },
  {
   "cell_type": "code",
   "execution_count": 9,
   "metadata": {},
   "outputs": [],
   "source": [
    "def calculate_loss(batch):\n",
    "    inputs, labels = batch\n",
    "    \n",
    "    # convert pytorch tensor to tortto tensor\n",
    "    inpt = tt.tensor(inputs.numpy()).cuda()\n",
    "    lab = tt.tensor(labels.numpy()).cuda()\n",
    "    \n",
    "    # forward\n",
    "    outputs = net(inpt)\n",
    "    loss = criterion(outputs, lab)\n",
    "\n",
    "    return loss\n",
    "    \n",
    "    \n",
    "def train():\n",
    "    # train\n",
    "    net.train()\n",
    "    loop = tqdm(train_loader)\n",
    "    train_loss = 0\n",
    "    for i, batch in enumerate(loop):\n",
    "\n",
    "        # zero the parameter gradients\n",
    "        optimizer.zero_grad()\n",
    "\n",
    "        loss = calculate_loss(batch)\n",
    "        \n",
    "        # accumulate loss\n",
    "        train_loss += loss.item()\n",
    "\n",
    "        # backpropagation\n",
    "        loss.backward()\n",
    "\n",
    "        # update parameters\n",
    "        optimizer.step()\n",
    "\n",
    "    # keep track of train loss and train error\n",
    "    loss_history['train'].append(train_loss / (i + 1))\n",
    "    \n",
    "\n",
    "@tt.no_grad()\n",
    "def val_test(dataloader):\n",
    "    net.eval()\n",
    "    total_loss = 0\n",
    "    loop = tqdm(dataloader)\n",
    "    for i, batch in enumerate(loop):\n",
    "        \n",
    "        # cal loss\n",
    "        loss = calculate_loss(batch)\n",
    "        \n",
    "        # accumulate val loss\n",
    "        total_loss += loss.item()\n",
    "    \n",
    "    avg_loss = total_loss / (i + 1)\n",
    "    return avg_loss\n",
    "\n",
    "    \n",
    "def save():\n",
    "    global lowest_loss\n",
    "    # save checkpoint\n",
    "    if epoch > 10 and loss_history['val'][-1] < lowest_loss:\n",
    "        checkpoint = {\n",
    "            'model': net.state_dict(),\n",
    "            'optimizer': optimizer.state_dict(),\n",
    "            }\n",
    "        tt.save(checkpoint, f'models/checkpoint_{str(epoch).zfill(3)}.npy')\n",
    "        lowest_loss = loss_history['val'][-1]\n",
    "    \n",
    "    # save loss history and log\n",
    "    tt.save(loss_history, 'logs/loss_history.npy')\n",
    "    with open('logs/log.txt','a') as f:\n",
    "        f.write('epoch{} finished at {}. val_loss: {:.4f}\\n'.\n",
    "                format(str(epoch).zfill(3), \n",
    "                       datetime.now().strftime(\"%m/%d/%Y, %H:%M:%S\"), \n",
    "                       loss_history['val'][-1]))"
   ]
  },
  {
   "cell_type": "markdown",
   "metadata": {},
   "source": [
    "## train the network"
   ]
  },
  {
   "cell_type": "code",
   "execution_count": 10,
   "metadata": {},
   "outputs": [
    {
     "name": "stderr",
     "output_type": "stream",
     "text": [
      "100%|█████████████████████████████████████████| 115/115 [00:12<00:00,  9.57it/s]\n",
      "100%|███████████████████████████████████████████| 21/21 [00:00<00:00, 30.34it/s]\n"
     ]
    },
    {
     "name": "stdout",
     "output_type": "stream",
     "text": [
      " - val_loss: 0.1059\n",
      "\n"
     ]
    },
    {
     "name": "stderr",
     "output_type": "stream",
     "text": [
      "100%|█████████████████████████████████████████| 115/115 [00:11<00:00, 10.11it/s]\n",
      "100%|███████████████████████████████████████████| 21/21 [00:00<00:00, 30.20it/s]\n"
     ]
    },
    {
     "name": "stdout",
     "output_type": "stream",
     "text": [
      " - val_loss: 0.0634\n",
      "\n"
     ]
    },
    {
     "name": "stderr",
     "output_type": "stream",
     "text": [
      "100%|█████████████████████████████████████████| 115/115 [00:11<00:00, 10.00it/s]\n",
      "100%|███████████████████████████████████████████| 21/21 [00:00<00:00, 30.32it/s]\n"
     ]
    },
    {
     "name": "stdout",
     "output_type": "stream",
     "text": [
      " - val_loss: 0.0543\n",
      "\n"
     ]
    },
    {
     "name": "stderr",
     "output_type": "stream",
     "text": [
      "100%|█████████████████████████████████████████| 115/115 [00:11<00:00, 10.01it/s]\n",
      "100%|███████████████████████████████████████████| 21/21 [00:00<00:00, 30.25it/s]\n"
     ]
    },
    {
     "name": "stdout",
     "output_type": "stream",
     "text": [
      " - val_loss: 0.0411\n",
      "\n"
     ]
    },
    {
     "name": "stderr",
     "output_type": "stream",
     "text": [
      "100%|█████████████████████████████████████████| 115/115 [00:11<00:00,  9.88it/s]\n",
      "100%|███████████████████████████████████████████| 21/21 [00:00<00:00, 30.00it/s]\n"
     ]
    },
    {
     "name": "stdout",
     "output_type": "stream",
     "text": [
      " - val_loss: 0.0422\n",
      "\n"
     ]
    },
    {
     "name": "stderr",
     "output_type": "stream",
     "text": [
      "100%|█████████████████████████████████████████| 115/115 [00:11<00:00,  9.82it/s]\n",
      "100%|███████████████████████████████████████████| 21/21 [00:00<00:00, 29.73it/s]\n"
     ]
    },
    {
     "name": "stdout",
     "output_type": "stream",
     "text": [
      " - val_loss: 0.0425\n",
      "\n"
     ]
    },
    {
     "name": "stderr",
     "output_type": "stream",
     "text": [
      "100%|█████████████████████████████████████████| 115/115 [00:11<00:00,  9.97it/s]\n",
      "100%|███████████████████████████████████████████| 21/21 [00:00<00:00, 30.32it/s]\n"
     ]
    },
    {
     "name": "stdout",
     "output_type": "stream",
     "text": [
      " - val_loss: 0.0340\n",
      "\n"
     ]
    },
    {
     "name": "stderr",
     "output_type": "stream",
     "text": [
      "100%|█████████████████████████████████████████| 115/115 [00:11<00:00,  9.77it/s]\n",
      "100%|███████████████████████████████████████████| 21/21 [00:00<00:00, 29.79it/s]\n"
     ]
    },
    {
     "name": "stdout",
     "output_type": "stream",
     "text": [
      " - val_loss: 0.0380\n",
      "\n"
     ]
    },
    {
     "name": "stderr",
     "output_type": "stream",
     "text": [
      "100%|█████████████████████████████████████████| 115/115 [00:11<00:00,  9.77it/s]\n",
      "100%|███████████████████████████████████████████| 21/21 [00:00<00:00, 29.91it/s]\n"
     ]
    },
    {
     "name": "stdout",
     "output_type": "stream",
     "text": [
      " - val_loss: 0.0334\n",
      "\n"
     ]
    },
    {
     "name": "stderr",
     "output_type": "stream",
     "text": [
      "100%|█████████████████████████████████████████| 115/115 [00:11<00:00,  9.79it/s]\n",
      "100%|███████████████████████████████████████████| 21/21 [00:00<00:00, 30.08it/s]\n"
     ]
    },
    {
     "name": "stdout",
     "output_type": "stream",
     "text": [
      " - val_loss: 0.0305\n",
      "\n"
     ]
    },
    {
     "name": "stderr",
     "output_type": "stream",
     "text": [
      "100%|█████████████████████████████████████████| 115/115 [00:11<00:00,  9.84it/s]\n",
      "100%|███████████████████████████████████████████| 21/21 [00:00<00:00, 30.27it/s]\n"
     ]
    },
    {
     "name": "stdout",
     "output_type": "stream",
     "text": [
      " - val_loss: 0.0299\n",
      "\n"
     ]
    },
    {
     "name": "stderr",
     "output_type": "stream",
     "text": [
      "100%|█████████████████████████████████████████| 115/115 [00:11<00:00,  9.79it/s]\n",
      "100%|███████████████████████████████████████████| 21/21 [00:00<00:00, 29.61it/s]\n"
     ]
    },
    {
     "name": "stdout",
     "output_type": "stream",
     "text": [
      " - val_loss: 0.0299\n",
      "\n"
     ]
    },
    {
     "name": "stderr",
     "output_type": "stream",
     "text": [
      "100%|█████████████████████████████████████████| 115/115 [00:11<00:00,  9.66it/s]\n",
      "100%|███████████████████████████████████████████| 21/21 [00:00<00:00, 29.26it/s]\n"
     ]
    },
    {
     "name": "stdout",
     "output_type": "stream",
     "text": [
      " - val_loss: 0.0282\n",
      "\n"
     ]
    },
    {
     "name": "stderr",
     "output_type": "stream",
     "text": [
      "100%|█████████████████████████████████████████| 115/115 [00:11<00:00,  9.68it/s]\n",
      "100%|███████████████████████████████████████████| 21/21 [00:00<00:00, 29.46it/s]\n"
     ]
    },
    {
     "name": "stdout",
     "output_type": "stream",
     "text": [
      " - val_loss: 0.0290\n",
      "\n"
     ]
    },
    {
     "name": "stderr",
     "output_type": "stream",
     "text": [
      "100%|█████████████████████████████████████████| 115/115 [00:11<00:00,  9.73it/s]\n",
      "100%|███████████████████████████████████████████| 21/21 [00:00<00:00, 30.17it/s]\n"
     ]
    },
    {
     "name": "stdout",
     "output_type": "stream",
     "text": [
      " - val_loss: 0.0286\n",
      "\n"
     ]
    },
    {
     "name": "stderr",
     "output_type": "stream",
     "text": [
      "100%|█████████████████████████████████████████| 115/115 [00:11<00:00,  9.82it/s]\n",
      "100%|███████████████████████████████████████████| 21/21 [00:00<00:00, 30.22it/s]\n"
     ]
    },
    {
     "name": "stdout",
     "output_type": "stream",
     "text": [
      " - val_loss: 0.0281\n",
      "\n"
     ]
    },
    {
     "name": "stderr",
     "output_type": "stream",
     "text": [
      "100%|█████████████████████████████████████████| 115/115 [00:11<00:00,  9.89it/s]\n",
      "100%|███████████████████████████████████████████| 21/21 [00:00<00:00, 30.22it/s]\n"
     ]
    },
    {
     "name": "stdout",
     "output_type": "stream",
     "text": [
      " - val_loss: 0.0270\n",
      "\n"
     ]
    },
    {
     "name": "stderr",
     "output_type": "stream",
     "text": [
      "100%|█████████████████████████████████████████| 115/115 [00:11<00:00,  9.84it/s]\n",
      "100%|███████████████████████████████████████████| 21/21 [00:00<00:00, 30.23it/s]\n"
     ]
    },
    {
     "name": "stdout",
     "output_type": "stream",
     "text": [
      " - val_loss: 0.0279\n",
      "\n"
     ]
    },
    {
     "name": "stderr",
     "output_type": "stream",
     "text": [
      "100%|█████████████████████████████████████████| 115/115 [00:11<00:00,  9.72it/s]\n",
      "100%|███████████████████████████████████████████| 21/21 [00:00<00:00, 29.96it/s]\n"
     ]
    },
    {
     "name": "stdout",
     "output_type": "stream",
     "text": [
      " - val_loss: 0.0278\n",
      "\n"
     ]
    },
    {
     "name": "stderr",
     "output_type": "stream",
     "text": [
      "100%|█████████████████████████████████████████| 115/115 [00:11<00:00,  9.80it/s]\n",
      "100%|███████████████████████████████████████████| 21/21 [00:00<00:00, 30.20it/s]\n"
     ]
    },
    {
     "name": "stdout",
     "output_type": "stream",
     "text": [
      " - val_loss: 0.0268\n",
      "\n"
     ]
    }
   ],
   "source": [
    "loss_history = {'train': [], 'val': []}\n",
    "\n",
    "if os.path.exists('logs/log.txt'):\n",
    "    raise OSError('Previous training logs already exist.')\n",
    "\n",
    "lowest_loss = 100\n",
    "\n",
    "for epoch in range(epochs):\n",
    "\n",
    "    # train\n",
    "    train()\n",
    "    \n",
<<<<<<< HEAD
    "    ######################################### save checkpoint and loss history\n",
    "    if epoch > 10 and history['val'][-1] < lowest_loss:\n",
    "        checkpoint = {\n",
    "            'model': net.state_dict(),\n",
    "            'optimizer': optimizer.state_dict()\n",
    "        }\n",
    "        tt.save(checkpoint, f'models/unet_checkpoint_{str(epoch + 1).zfill(3)}.npy')\n",
    "        tt.save(history, 'logs/loss_history.npy')\n",
    "        lowest_loss = history['val'][-1]"
=======
    "    # validation\n",
    "    val_loss = val_test(val_loader)\n",
    "    loss_history['val'].append(val_loss)\n",
    "    print(' - val_loss: {:.4f}\\n'.format(loss_history['val'][-1]))\n",
    "    \n",
    "    # save\n",
    "    save()"
>>>>>>> main
   ]
  },
  {
   "cell_type": "code",
   "execution_count": 11,
   "metadata": {},
   "outputs": [
    {
     "data": {
      "image/png": "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\n",
      "text/plain": [
       "<Figure size 432x288 with 1 Axes>"
      ]
     },
     "metadata": {
      "needs_background": "light"
     },
     "output_type": "display_data"
    }
   ],
   "source": [
    "loss_history = tt.load('logs/loss_history.npy')\n",
    "plt.plot(loss_history['train'], 'r', label='train')\n",
    "plt.plot(loss_history['val'], 'b', label='val')\n",
    "plt.xticks(ticks=range(len(loss_history['train'])), labels=range(1, 1 + len(loss_history['train'])))\n",
    "plt.xlabel('epoch')\n",
    "plt.ylabel('loss')\n",
    "plt.legend()\n",
    "plt.show()"
   ]
  },
  {
   "cell_type": "markdown",
   "metadata": {},
   "source": [
    "## evaluation on test set"
   ]
  },
  {
   "cell_type": "markdown",
   "metadata": {},
   "source": [
    "load the last checkpoint, because its validation loss is the lowest."
   ]
  },
  {
   "cell_type": "code",
   "execution_count": 12,
   "metadata": {},
   "outputs": [
    {
     "data": {
      "text/plain": [
       "<All keys matched successfully>"
      ]
     },
     "execution_count": 12,
     "metadata": {},
     "output_type": "execute_result"
    }
   ],
   "source": [
    "# load checkpoint\n",
<<<<<<< HEAD
    "checkpoint = tt.load('models/unet_checkpoint_020.npy')"
=======
    "checkpoint = tt.load('models/checkpoint_019.npy')\n",
    "net.load_state_dict(checkpoint['model'])"
>>>>>>> main
   ]
  },
  {
   "cell_type": "code",
   "execution_count": 13,
   "metadata": {},
   "outputs": [
    {
     "name": "stderr",
     "output_type": "stream",
     "text": [
      "100%|███████████████████████████████████████████| 25/25 [00:01<00:00, 18.33it/s]"
     ]
    },
    {
     "name": "stdout",
     "output_type": "stream",
     "text": [
      "Test loss: 0.0221\n"
     ]
    },
    {
     "name": "stderr",
     "output_type": "stream",
     "text": [
      "\n"
     ]
    }
   ],
   "source": [
    "test_loss = val_test(test_loader)\n",
    "print(f'Test loss: {test_loss:.4f}')"
   ]
  },
  {
   "cell_type": "markdown",
   "metadata": {},
   "source": [
    "## some examples"
   ]
  },
  {
   "cell_type": "code",
   "execution_count": null,
   "metadata": {},
   "outputs": [],
   "source": [
    "for inputs, labels in test_loader:\n",
    "    inpt = tt.tensor(inputs.numpy()).cuda()\n",
    "    lab = tt.tensor(labels.numpy()).cuda()\n",
    "    outputs = net(inpt)\n",
    "    break\n",
    "\n",
    "fig, axs = plt.subplots(5, 3, figsize=(15, 15))\n",
    "for n, ax in enumerate(axs.flat):\n",
    "    if n % 3 == 0:\n",
    "        ax.imshow(np.moveaxis(inpt.data[n // 3], -3, -1).get())\n",
    "        ax.axis('off')\n",
    "        if n == 0:\n",
    "            ax.set_title('Image', fontsize=20)\n",
    "    if n % 3 == 1:\n",
    "        ax.imshow(lab.data[n // 3][0].get())\n",
    "        ax.axis('off')\n",
    "        if n == 1:\n",
    "            ax.set_title('True mask', fontsize=20)\n",
    "    if n % 3 == 2:\n",
    "        ax.imshow(tt.sigmoid(outputs[n // 3][0]).data.get() > 0.5)\n",
    "        ax.axis('off')\n",
    "        if n == 2:\n",
    "            ax.set_title('Predicted mask', fontsize=20)"
   ]
  },
  {
   "cell_type": "code",
   "execution_count": null,
   "metadata": {},
   "outputs": [],
   "source": []
  }
 ],
 "metadata": {
  "environment": {
   "kernel": "python3",
   "name": "pytorch-gpu.1-11.m93",
   "type": "gcloud",
   "uri": "gcr.io/deeplearning-platform-release/pytorch-gpu.1-11:m93"
  },
  "kernelspec": {
   "display_name": "Python 3 (ipykernel)",
   "language": "python",
   "name": "python3"
  },
  "language_info": {
   "codemirror_mode": {
    "name": "ipython",
    "version": 3
   },
   "file_extension": ".py",
   "mimetype": "text/x-python",
   "name": "python",
   "nbconvert_exporter": "python",
   "pygments_lexer": "ipython3",
   "version": "3.9.12"
  }
 },
 "nbformat": 4,
 "nbformat_minor": 4
}
