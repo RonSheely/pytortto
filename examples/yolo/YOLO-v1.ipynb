{
 "cells": [
  {
   "cell_type": "code",
   "execution_count": 1,
   "metadata": {},
   "outputs": [],
   "source": [
    "import torch\n",
    "torch.backends.cudnn.benchmark=True\n",
    "\n",
    "import os\n",
    "from datetime import datetime\n",
    "import time\n",
    "\n",
    "from loss import *\n",
    "from dataset import *\n",
    "from model import *\n",
    "from model_resnetyolo import *\n",
    "from viz import *\n",
    "import albumentations as A\n",
    "from albumentations.pytorch import ToTensorV2\n",
    "from torch.utils.data import DataLoader\n",
    "import torch.optim as optim\n",
    "from tqdm import tqdm\n",
    "import matplotlib.pyplot as plt"
   ]
  },
  {
   "cell_type": "markdown",
   "metadata": {},
   "source": [
    "## some parameters"
   ]
  },
  {
   "cell_type": "code",
   "execution_count": 2,
   "metadata": {},
   "outputs": [],
   "source": [
    "C=20\n",
    "B=2\n",
    "S=7\n",
    "batch_size = 4\n",
    "learning_rate = 2e-5\n",
    "epochs = 120"
   ]
  },
  {
   "cell_type": "markdown",
   "metadata": {},
   "source": [
    "# need more augmentation!"
   ]
  },
  {
   "cell_type": "code",
   "execution_count": 3,
   "metadata": {},
   "outputs": [
    {
     "name": "stdout",
     "output_type": "stream",
     "text": [
      "Using downloaded and verified file: data/VOCtrainval_11-May-2012.tar\n",
      "Extracting data/VOCtrainval_11-May-2012.tar to data\n",
      "Using downloaded and verified file: data/VOCtrainval_06-Nov-2007.tar\n",
      "Extracting data/VOCtrainval_06-Nov-2007.tar to data\n"
     ]
    }
   ],
   "source": [
    "# https://albumentations.ai/docs/api_reference/augmentations/transforms/\n",
    "# https://albumentations.ai/docs/api_reference/augmentations/geometric/transforms/\n",
    "# https://albumentations.ai/docs/getting_started/bounding_boxes_augmentation/\n",
    "transform_aug = A.Compose([\n",
    "    A.Resize(448, 448),\n",
    "    A.HorizontalFlip(),\n",
    "    A.ColorJitter(brightness=0.2, contrast=0., saturation=0.2, hue=0.15),\n",
    "    A.Affine(scale=(1.0,1.2),translate_percent=(-0.2,0.2)),\n",
    "    A.Normalize(), # mean=(0.485, 0.456, 0.406), std=(0.229, 0.224, 0.225)\n",
    "    ToTensorV2()\n",
    "], bbox_params=A.BboxParams(format='albumentations', min_visibility=0.3))\n",
    "\n",
    "transform = A.Compose([\n",
    "    A.Resize(448, 448),\n",
    "    A.Normalize(), # mean=(0.485, 0.456, 0.406), std=(0.229, 0.224, 0.225)\n",
    "    ToTensorV2()\n",
    "], bbox_params=A.BboxParams(format='albumentations')) # format=albumentations is normalized pascal_voc.\n",
    "\n",
    "\n",
    "train_dataset=VOCDataset(root='data', image_set='train', S=S,C=C,transform=transform_aug)\n",
    "test_dataset=VOCDataset(root='data', image_set='val',  S=S,C=C,transform=transform)\n",
    "\n",
    "train_loader=DataLoader(dataset=train_dataset, batch_size=batch_size, shuffle=True, num_workers=8)\n",
    "test_loader=DataLoader(dataset=test_dataset, batch_size=batch_size, shuffle=False, num_workers=8)\n"
   ]
  },
  {
   "cell_type": "code",
   "execution_count": 4,
   "metadata": {},
   "outputs": [],
   "source": [
    "# net = Yolov1(split_size=S, num_boxes=B, num_classes=C).cuda()\n",
    "net = YOLOv1ResNet(S=S, B=B, C=C).cuda()\n",
    "optimizer = optim.Adam(net.parameters(), lr=learning_rate)\n",
    "scheduler = optim.lr_scheduler.CosineAnnealingLR(optimizer, T_max=epochs)\n",
    "loss_fn = YoloLoss(S=S, B=B, C=C)"
   ]
  },
  {
   "cell_type": "code",
   "execution_count": 5,
   "metadata": {},
   "outputs": [],
   "source": [
    "# net.load_state_dict(torch.load('backup/checkpoint_149.npy'))"
   ]
  },
  {
   "cell_type": "markdown",
   "metadata": {},
   "source": [
    "## define functions for training and validation"
   ]
  },
  {
   "cell_type": "code",
   "execution_count": 6,
   "metadata": {},
   "outputs": [],
   "source": [
    "def train():\n",
    "    net.train()\n",
    "    train_loss = 0\n",
    "    loop = tqdm(train_loader)\n",
    "    for i, (img, (boxes, labels, Iobj), index) in enumerate(loop):\n",
    "        img, boxes, labels, Iobj = img.cuda(), boxes.cuda(), labels.cuda(), Iobj.cuda()\n",
    "        out = net(img)\n",
    "        loss = loss_fn(out, (boxes, labels, Iobj))\n",
    "        train_loss+=loss.item()\n",
    "        optimizer.zero_grad()\n",
    "        loss.backward()\n",
    "        optimizer.step()\n",
    "    loss_history['train'].append(train_loss / (i + 1))\n",
    "\n",
    "    \n",
    "    \n",
    "@torch.no_grad()\n",
    "def val_test(dataloader):\n",
    "    net.eval()\n",
    "    total_loss = 0\n",
    "    loop = tqdm(dataloader)\n",
    "    for i, (img, (boxes, labels, Iobj), index) in enumerate(loop):\n",
    "        img, boxes, labels, Iobj = img.cuda(), boxes.cuda(), labels.cuda(), Iobj.cuda()\n",
    "        out = net(img)\n",
    "        loss = loss_fn(out, (boxes, labels, Iobj))\n",
    "        total_loss += loss.item()\n",
    "    \n",
    "    avg_loss = total_loss / (i + 1)\n",
    "    return avg_loss\n",
    "    \n",
    "\n",
    "    \n",
    "def save():\n",
    "    global lowest_loss\n",
    "    # save checkpoint\n",
    "    \n",
    "    if epoch>50 and loss_history['val'][-1]<10 and loss_history['val'][-1] < lowest_loss:\n",
    "        torch.save(net.state_dict(), f'models/checkpoint_{str(epoch).zfill(3)}.npy')\n",
    "        lowest_loss = loss_history['val'][-1]\n",
    "\n",
    "    # save loss, error history and log\n",
    "    torch.save(loss_history, 'logs/loss_history.npy')\n",
    "    with open('logs/log.txt', 'a') as f:\n",
    "        f.write('epoch{} finished at {}. val_loss: {:.4f}\\n'.\n",
    "                format(str(epoch).zfill(3),\n",
    "                       datetime.now().strftime(\"%m/%d/%Y, %H:%M:%S\"),\n",
    "                       loss_history['val'][-1]))\n",
    "        "
   ]
  },
  {
   "cell_type": "markdown",
   "metadata": {},
   "source": [
    "## start training"
   ]
  },
  {
   "cell_type": "code",
   "execution_count": 7,
   "metadata": {},
   "outputs": [
    {
     "name": "stderr",
     "output_type": "stream",
     "text": [
      "100%|███████████████████████████████████████| 2885/2885 [08:52<00:00,  5.41it/s]\n",
      "100%|███████████████████████████████████████| 1253/1253 [00:50<00:00, 24.87it/s]\n"
     ]
    },
    {
     "name": "stdout",
     "output_type": "stream",
     "text": [
      " - val_loss: 7.8280\n",
      "\n"
     ]
    },
    {
     "name": "stderr",
     "output_type": "stream",
     "text": [
      "100%|███████████████████████████████████████| 2885/2885 [08:50<00:00,  5.44it/s]\n",
      "100%|███████████████████████████████████████| 1253/1253 [00:50<00:00, 24.77it/s]\n"
     ]
    },
    {
     "name": "stdout",
     "output_type": "stream",
     "text": [
      " - val_loss: 6.4522\n",
      "\n"
     ]
    },
    {
     "name": "stderr",
     "output_type": "stream",
     "text": [
      "100%|███████████████████████████████████████| 2885/2885 [08:54<00:00,  5.40it/s]\n",
      "100%|███████████████████████████████████████| 1253/1253 [00:50<00:00, 24.75it/s]\n"
     ]
    },
    {
     "name": "stdout",
     "output_type": "stream",
     "text": [
      " - val_loss: 6.2061\n",
      "\n"
     ]
    },
    {
     "name": "stderr",
     "output_type": "stream",
     "text": [
      "100%|███████████████████████████████████████| 2885/2885 [08:54<00:00,  5.40it/s]\n",
      "100%|███████████████████████████████████████| 1253/1253 [00:50<00:00, 24.73it/s]\n"
     ]
    },
    {
     "name": "stdout",
     "output_type": "stream",
     "text": [
      " - val_loss: 5.8542\n",
      "\n"
     ]
    },
    {
     "name": "stderr",
     "output_type": "stream",
     "text": [
      "100%|███████████████████████████████████████| 2885/2885 [08:53<00:00,  5.40it/s]\n",
      "100%|███████████████████████████████████████| 1253/1253 [00:50<00:00, 24.78it/s]\n"
     ]
    },
    {
     "name": "stdout",
     "output_type": "stream",
     "text": [
      " - val_loss: 5.9225\n",
      "\n"
     ]
    },
    {
     "name": "stderr",
     "output_type": "stream",
     "text": [
      "100%|███████████████████████████████████████| 2885/2885 [08:53<00:00,  5.41it/s]\n",
      "100%|███████████████████████████████████████| 1253/1253 [00:50<00:00, 24.76it/s]\n"
     ]
    },
    {
     "name": "stdout",
     "output_type": "stream",
     "text": [
      " - val_loss: 5.4684\n",
      "\n"
     ]
    },
    {
     "name": "stderr",
     "output_type": "stream",
     "text": [
      "100%|███████████████████████████████████████| 2885/2885 [08:53<00:00,  5.41it/s]\n",
      "100%|███████████████████████████████████████| 1253/1253 [00:50<00:00, 24.80it/s]\n"
     ]
    },
    {
     "name": "stdout",
     "output_type": "stream",
     "text": [
      " - val_loss: 5.4307\n",
      "\n"
     ]
    },
    {
     "name": "stderr",
     "output_type": "stream",
     "text": [
      "100%|███████████████████████████████████████| 2885/2885 [08:53<00:00,  5.41it/s]\n",
      "100%|███████████████████████████████████████| 1253/1253 [00:50<00:00, 24.78it/s]\n"
     ]
    },
    {
     "name": "stdout",
     "output_type": "stream",
     "text": [
      " - val_loss: 5.4976\n",
      "\n"
     ]
    },
    {
     "name": "stderr",
     "output_type": "stream",
     "text": [
      "100%|███████████████████████████████████████| 2885/2885 [08:53<00:00,  5.41it/s]\n",
      "100%|███████████████████████████████████████| 1253/1253 [00:50<00:00, 24.80it/s]\n"
     ]
    },
    {
     "name": "stdout",
     "output_type": "stream",
     "text": [
      " - val_loss: 5.0206\n",
      "\n"
     ]
    },
    {
     "name": "stderr",
     "output_type": "stream",
     "text": [
      "100%|███████████████████████████████████████| 2885/2885 [08:53<00:00,  5.41it/s]\n",
      "100%|███████████████████████████████████████| 1253/1253 [00:50<00:00, 24.78it/s]\n"
     ]
    },
    {
     "name": "stdout",
     "output_type": "stream",
     "text": [
      " - val_loss: 4.7832\n",
      "\n"
     ]
    },
    {
     "name": "stderr",
     "output_type": "stream",
     "text": [
      "100%|███████████████████████████████████████| 2885/2885 [08:50<00:00,  5.44it/s]\n",
      "100%|███████████████████████████████████████| 1253/1253 [00:49<00:00, 25.13it/s]\n"
     ]
    },
    {
     "name": "stdout",
     "output_type": "stream",
     "text": [
      " - val_loss: 4.8966\n",
      "\n"
     ]
    },
    {
     "name": "stderr",
     "output_type": "stream",
     "text": [
      "100%|███████████████████████████████████████| 2885/2885 [08:53<00:00,  5.40it/s]\n",
      "100%|███████████████████████████████████████| 1253/1253 [00:50<00:00, 24.98it/s]\n"
     ]
    },
    {
     "name": "stdout",
     "output_type": "stream",
     "text": [
      " - val_loss: 4.8484\n",
      "\n"
     ]
    },
    {
     "name": "stderr",
     "output_type": "stream",
     "text": [
      "100%|███████████████████████████████████████| 2885/2885 [08:51<00:00,  5.43it/s]\n",
      "100%|███████████████████████████████████████| 1253/1253 [00:50<00:00, 24.99it/s]\n"
     ]
    },
    {
     "name": "stdout",
     "output_type": "stream",
     "text": [
      " - val_loss: 4.4860\n",
      "\n"
     ]
    },
    {
     "name": "stderr",
     "output_type": "stream",
     "text": [
      "100%|███████████████████████████████████████| 2885/2885 [08:51<00:00,  5.43it/s]\n",
      "100%|███████████████████████████████████████| 1253/1253 [00:50<00:00, 25.04it/s]\n"
     ]
    },
    {
     "name": "stdout",
     "output_type": "stream",
     "text": [
      " - val_loss: 4.3890\n",
      "\n"
     ]
    },
    {
     "name": "stderr",
     "output_type": "stream",
     "text": [
      "100%|███████████████████████████████████████| 2885/2885 [08:51<00:00,  5.43it/s]\n",
      "100%|███████████████████████████████████████| 1253/1253 [00:50<00:00, 24.95it/s]\n"
     ]
    },
    {
     "name": "stdout",
     "output_type": "stream",
     "text": [
      " - val_loss: 4.8883\n",
      "\n"
     ]
    },
    {
     "name": "stderr",
     "output_type": "stream",
     "text": [
      "100%|███████████████████████████████████████| 2885/2885 [08:51<00:00,  5.43it/s]\n",
      "100%|███████████████████████████████████████| 1253/1253 [00:50<00:00, 25.02it/s]\n"
     ]
    },
    {
     "name": "stdout",
     "output_type": "stream",
     "text": [
      " - val_loss: 4.3959\n",
      "\n"
     ]
    },
    {
     "name": "stderr",
     "output_type": "stream",
     "text": [
      "100%|███████████████████████████████████████| 2885/2885 [08:51<00:00,  5.43it/s]\n",
      "100%|███████████████████████████████████████| 1253/1253 [00:50<00:00, 25.01it/s]\n"
     ]
    },
    {
     "name": "stdout",
     "output_type": "stream",
     "text": [
      " - val_loss: 4.3568\n",
      "\n"
     ]
    },
    {
     "name": "stderr",
     "output_type": "stream",
     "text": [
      "100%|███████████████████████████████████████| 2885/2885 [08:51<00:00,  5.43it/s]\n",
      "100%|███████████████████████████████████████| 1253/1253 [00:50<00:00, 25.03it/s]\n"
     ]
    },
    {
     "name": "stdout",
     "output_type": "stream",
     "text": [
      " - val_loss: 4.4705\n",
      "\n"
     ]
    },
    {
     "name": "stderr",
     "output_type": "stream",
     "text": [
      "100%|███████████████████████████████████████| 2885/2885 [08:51<00:00,  5.43it/s]\n",
      "100%|███████████████████████████████████████| 1253/1253 [00:50<00:00, 24.98it/s]\n"
     ]
    },
    {
     "name": "stdout",
     "output_type": "stream",
     "text": [
      " - val_loss: 4.4738\n",
      "\n"
     ]
    },
    {
     "name": "stderr",
     "output_type": "stream",
     "text": [
      "100%|███████████████████████████████████████| 2885/2885 [08:51<00:00,  5.43it/s]\n",
      "100%|███████████████████████████████████████| 1253/1253 [00:50<00:00, 24.98it/s]\n"
     ]
    },
    {
     "name": "stdout",
     "output_type": "stream",
     "text": [
      " - val_loss: 4.4907\n",
      "\n"
     ]
    },
    {
     "name": "stderr",
     "output_type": "stream",
     "text": [
      "100%|███████████████████████████████████████| 2885/2885 [08:51<00:00,  5.43it/s]\n",
      "100%|███████████████████████████████████████| 1253/1253 [00:50<00:00, 25.03it/s]\n"
     ]
    },
    {
     "name": "stdout",
     "output_type": "stream",
     "text": [
      " - val_loss: 4.4695\n",
      "\n"
     ]
    },
    {
     "name": "stderr",
     "output_type": "stream",
     "text": [
      "100%|███████████████████████████████████████| 2885/2885 [08:51<00:00,  5.43it/s]\n",
      "100%|███████████████████████████████████████| 1253/1253 [00:50<00:00, 25.03it/s]\n"
     ]
    },
    {
     "name": "stdout",
     "output_type": "stream",
     "text": [
      " - val_loss: 4.3893\n",
      "\n"
     ]
    },
    {
     "name": "stderr",
     "output_type": "stream",
     "text": [
      "100%|███████████████████████████████████████| 2885/2885 [08:51<00:00,  5.43it/s]\n",
      "100%|███████████████████████████████████████| 1253/1253 [00:50<00:00, 24.96it/s]\n"
     ]
    },
    {
     "name": "stdout",
     "output_type": "stream",
     "text": [
      " - val_loss: 4.2800\n",
      "\n"
     ]
    },
    {
     "name": "stderr",
     "output_type": "stream",
     "text": [
      "100%|███████████████████████████████████████| 2885/2885 [08:51<00:00,  5.43it/s]\n",
      "100%|███████████████████████████████████████| 1253/1253 [00:50<00:00, 25.00it/s]\n"
     ]
    },
    {
     "name": "stdout",
     "output_type": "stream",
     "text": [
      " - val_loss: 4.1054\n",
      "\n"
     ]
    },
    {
     "name": "stderr",
     "output_type": "stream",
     "text": [
      "100%|███████████████████████████████████████| 2885/2885 [08:51<00:00,  5.43it/s]\n",
      "100%|███████████████████████████████████████| 1253/1253 [00:50<00:00, 24.99it/s]\n"
     ]
    },
    {
     "name": "stdout",
     "output_type": "stream",
     "text": [
      " - val_loss: 4.3521\n",
      "\n"
     ]
    },
    {
     "name": "stderr",
     "output_type": "stream",
     "text": [
      "100%|███████████████████████████████████████| 2885/2885 [08:51<00:00,  5.43it/s]\n",
      "100%|███████████████████████████████████████| 1253/1253 [00:50<00:00, 24.99it/s]\n"
     ]
    },
    {
     "name": "stdout",
     "output_type": "stream",
     "text": [
      " - val_loss: 4.2640\n",
      "\n"
     ]
    },
    {
     "name": "stderr",
     "output_type": "stream",
     "text": [
      "100%|███████████████████████████████████████| 2885/2885 [08:51<00:00,  5.43it/s]\n",
      "100%|███████████████████████████████████████| 1253/1253 [00:50<00:00, 24.98it/s]\n"
     ]
    },
    {
     "name": "stdout",
     "output_type": "stream",
     "text": [
      " - val_loss: 3.8768\n",
      "\n"
     ]
    },
    {
     "name": "stderr",
     "output_type": "stream",
     "text": [
      "100%|███████████████████████████████████████| 2885/2885 [08:51<00:00,  5.43it/s]\n",
      "100%|███████████████████████████████████████| 1253/1253 [00:50<00:00, 24.97it/s]\n"
     ]
    },
    {
     "name": "stdout",
     "output_type": "stream",
     "text": [
      " - val_loss: 4.0107\n",
      "\n"
     ]
    },
    {
     "name": "stderr",
     "output_type": "stream",
     "text": [
      "100%|███████████████████████████████████████| 2885/2885 [08:51<00:00,  5.43it/s]\n",
      "100%|███████████████████████████████████████| 1253/1253 [00:50<00:00, 24.96it/s]\n"
     ]
    },
    {
     "name": "stdout",
     "output_type": "stream",
     "text": [
      " - val_loss: 4.0915\n",
      "\n"
     ]
    },
    {
     "name": "stderr",
     "output_type": "stream",
     "text": [
      "100%|███████████████████████████████████████| 2885/2885 [08:51<00:00,  5.43it/s]\n",
      "100%|███████████████████████████████████████| 1253/1253 [00:50<00:00, 24.99it/s]\n"
     ]
    },
    {
     "name": "stdout",
     "output_type": "stream",
     "text": [
      " - val_loss: 3.8576\n",
      "\n"
     ]
    },
    {
     "name": "stderr",
     "output_type": "stream",
     "text": [
      "100%|███████████████████████████████████████| 2885/2885 [08:51<00:00,  5.43it/s]\n",
      "100%|███████████████████████████████████████| 1253/1253 [00:50<00:00, 25.00it/s]\n"
     ]
    },
    {
     "name": "stdout",
     "output_type": "stream",
     "text": [
      " - val_loss: 3.9688\n",
      "\n"
     ]
    },
    {
     "name": "stderr",
     "output_type": "stream",
     "text": [
      "100%|███████████████████████████████████████| 2885/2885 [08:51<00:00,  5.43it/s]\n",
      "100%|███████████████████████████████████████| 1253/1253 [00:50<00:00, 25.00it/s]\n"
     ]
    },
    {
     "name": "stdout",
     "output_type": "stream",
     "text": [
      " - val_loss: 3.9341\n",
      "\n"
     ]
    },
    {
     "name": "stderr",
     "output_type": "stream",
     "text": [
      "100%|███████████████████████████████████████| 2885/2885 [08:51<00:00,  5.43it/s]\n",
      "100%|███████████████████████████████████████| 1253/1253 [00:50<00:00, 25.01it/s]\n"
     ]
    },
    {
     "name": "stdout",
     "output_type": "stream",
     "text": [
      " - val_loss: 3.8846\n",
      "\n"
     ]
    },
    {
     "name": "stderr",
     "output_type": "stream",
     "text": [
      "100%|███████████████████████████████████████| 2885/2885 [08:51<00:00,  5.43it/s]\n",
      "100%|███████████████████████████████████████| 1253/1253 [00:50<00:00, 24.99it/s]\n"
     ]
    },
    {
     "name": "stdout",
     "output_type": "stream",
     "text": [
      " - val_loss: 3.8500\n",
      "\n"
     ]
    },
    {
     "name": "stderr",
     "output_type": "stream",
     "text": [
      "100%|███████████████████████████████████████| 2885/2885 [08:51<00:00,  5.43it/s]\n",
      "100%|███████████████████████████████████████| 1253/1253 [00:50<00:00, 24.97it/s]\n"
     ]
    },
    {
     "name": "stdout",
     "output_type": "stream",
     "text": [
      " - val_loss: 3.8830\n",
      "\n"
     ]
    },
    {
     "name": "stderr",
     "output_type": "stream",
     "text": [
      "100%|███████████████████████████████████████| 2885/2885 [08:51<00:00,  5.43it/s]\n",
      "100%|███████████████████████████████████████| 1253/1253 [00:50<00:00, 24.96it/s]\n"
     ]
    },
    {
     "name": "stdout",
     "output_type": "stream",
     "text": [
      " - val_loss: 3.8341\n",
      "\n"
     ]
    },
    {
     "name": "stderr",
     "output_type": "stream",
     "text": [
      "100%|███████████████████████████████████████| 2885/2885 [08:51<00:00,  5.43it/s]\n",
      "100%|███████████████████████████████████████| 1253/1253 [00:50<00:00, 24.99it/s]\n"
     ]
    },
    {
     "name": "stdout",
     "output_type": "stream",
     "text": [
      " - val_loss: 3.7692\n",
      "\n"
     ]
    },
    {
     "name": "stderr",
     "output_type": "stream",
     "text": [
      "100%|███████████████████████████████████████| 2885/2885 [08:51<00:00,  5.43it/s]\n",
      "100%|███████████████████████████████████████| 1253/1253 [00:50<00:00, 25.00it/s]\n"
     ]
    },
    {
     "name": "stdout",
     "output_type": "stream",
     "text": [
      " - val_loss: 3.8470\n",
      "\n"
     ]
    },
    {
     "name": "stderr",
     "output_type": "stream",
     "text": [
      "100%|███████████████████████████████████████| 2885/2885 [08:51<00:00,  5.43it/s]\n",
      "100%|███████████████████████████████████████| 1253/1253 [00:50<00:00, 25.00it/s]\n"
     ]
    },
    {
     "name": "stdout",
     "output_type": "stream",
     "text": [
      " - val_loss: 3.9900\n",
      "\n"
     ]
    },
    {
     "name": "stderr",
     "output_type": "stream",
     "text": [
      "100%|███████████████████████████████████████| 2885/2885 [08:51<00:00,  5.43it/s]\n",
      "100%|███████████████████████████████████████| 1253/1253 [00:50<00:00, 24.99it/s]\n"
     ]
    },
    {
     "name": "stdout",
     "output_type": "stream",
     "text": [
      " - val_loss: 3.7190\n",
      "\n"
     ]
    },
    {
     "name": "stderr",
     "output_type": "stream",
     "text": [
      "100%|███████████████████████████████████████| 2885/2885 [08:51<00:00,  5.43it/s]\n",
      "100%|███████████████████████████████████████| 1253/1253 [00:50<00:00, 25.02it/s]\n"
     ]
    },
    {
     "name": "stdout",
     "output_type": "stream",
     "text": [
      " - val_loss: 3.7062\n",
      "\n"
     ]
    },
    {
     "name": "stderr",
     "output_type": "stream",
     "text": [
      "100%|███████████████████████████████████████| 2885/2885 [08:51<00:00,  5.43it/s]\n",
      "100%|███████████████████████████████████████| 1253/1253 [00:50<00:00, 25.00it/s]\n"
     ]
    },
    {
     "name": "stdout",
     "output_type": "stream",
     "text": [
      " - val_loss: 3.5569\n",
      "\n"
     ]
    },
    {
     "name": "stderr",
     "output_type": "stream",
     "text": [
      "100%|███████████████████████████████████████| 2885/2885 [08:51<00:00,  5.43it/s]\n",
      "100%|███████████████████████████████████████| 1253/1253 [00:50<00:00, 24.95it/s]\n"
     ]
    },
    {
     "name": "stdout",
     "output_type": "stream",
     "text": [
      " - val_loss: 3.7922\n",
      "\n"
     ]
    },
    {
     "name": "stderr",
     "output_type": "stream",
     "text": [
      "100%|███████████████████████████████████████| 2885/2885 [08:51<00:00,  5.43it/s]\n",
      "100%|███████████████████████████████████████| 1253/1253 [00:50<00:00, 24.98it/s]\n"
     ]
    },
    {
     "name": "stdout",
     "output_type": "stream",
     "text": [
      " - val_loss: 4.0155\n",
      "\n"
     ]
    },
    {
     "name": "stderr",
     "output_type": "stream",
     "text": [
      "100%|███████████████████████████████████████| 2885/2885 [08:51<00:00,  5.43it/s]\n",
      "100%|███████████████████████████████████████| 1253/1253 [00:50<00:00, 24.97it/s]\n"
     ]
    },
    {
     "name": "stdout",
     "output_type": "stream",
     "text": [
      " - val_loss: 3.5346\n",
      "\n"
     ]
    },
    {
     "name": "stderr",
     "output_type": "stream",
     "text": [
      "100%|███████████████████████████████████████| 2885/2885 [08:51<00:00,  5.43it/s]\n",
      "100%|███████████████████████████████████████| 1253/1253 [00:50<00:00, 24.99it/s]\n"
     ]
    },
    {
     "name": "stdout",
     "output_type": "stream",
     "text": [
      " - val_loss: 3.6914\n",
      "\n"
     ]
    },
    {
     "name": "stderr",
     "output_type": "stream",
     "text": [
      "100%|███████████████████████████████████████| 2885/2885 [08:51<00:00,  5.43it/s]\n",
      "100%|███████████████████████████████████████| 1253/1253 [00:50<00:00, 25.02it/s]\n"
     ]
    },
    {
     "name": "stdout",
     "output_type": "stream",
     "text": [
      " - val_loss: 3.8746\n",
      "\n"
     ]
    },
    {
     "name": "stderr",
     "output_type": "stream",
     "text": [
      "100%|███████████████████████████████████████| 2885/2885 [08:51<00:00,  5.43it/s]\n",
      "100%|███████████████████████████████████████| 1253/1253 [00:50<00:00, 24.97it/s]\n"
     ]
    },
    {
     "name": "stdout",
     "output_type": "stream",
     "text": [
      " - val_loss: 3.6044\n",
      "\n"
     ]
    },
    {
     "name": "stderr",
     "output_type": "stream",
     "text": [
      "100%|███████████████████████████████████████| 2885/2885 [08:51<00:00,  5.43it/s]\n",
      "100%|███████████████████████████████████████| 1253/1253 [00:50<00:00, 25.00it/s]\n"
     ]
    },
    {
     "name": "stdout",
     "output_type": "stream",
     "text": [
      " - val_loss: 3.8666\n",
      "\n"
     ]
    },
    {
     "name": "stderr",
     "output_type": "stream",
     "text": [
      "100%|███████████████████████████████████████| 2885/2885 [08:51<00:00,  5.43it/s]\n",
      "100%|███████████████████████████████████████| 1253/1253 [00:50<00:00, 24.99it/s]\n"
     ]
    },
    {
     "name": "stdout",
     "output_type": "stream",
     "text": [
      " - val_loss: 3.8575\n",
      "\n"
     ]
    },
    {
     "name": "stderr",
     "output_type": "stream",
     "text": [
      "100%|███████████████████████████████████████| 2885/2885 [08:51<00:00,  5.43it/s]\n",
      "100%|███████████████████████████████████████| 1253/1253 [00:50<00:00, 24.96it/s]\n"
     ]
    },
    {
     "name": "stdout",
     "output_type": "stream",
     "text": [
      " - val_loss: 3.7885\n",
      "\n"
     ]
    },
    {
     "name": "stderr",
     "output_type": "stream",
     "text": [
      "100%|███████████████████████████████████████| 2885/2885 [08:51<00:00,  5.43it/s]\n",
      "100%|███████████████████████████████████████| 1253/1253 [00:50<00:00, 24.98it/s]\n"
     ]
    },
    {
     "name": "stdout",
     "output_type": "stream",
     "text": [
      " - val_loss: 3.9014\n",
      "\n"
     ]
    },
    {
     "name": "stderr",
     "output_type": "stream",
     "text": [
      "100%|███████████████████████████████████████| 2885/2885 [08:50<00:00,  5.43it/s]\n",
      "100%|███████████████████████████████████████| 1253/1253 [00:49<00:00, 25.11it/s]\n"
     ]
    },
    {
     "name": "stdout",
     "output_type": "stream",
     "text": [
      " - val_loss: 3.9544\n",
      "\n"
     ]
    },
    {
     "name": "stderr",
     "output_type": "stream",
     "text": [
      "100%|███████████████████████████████████████| 2885/2885 [08:51<00:00,  5.43it/s]\n",
      "100%|███████████████████████████████████████| 1253/1253 [00:49<00:00, 25.11it/s]\n"
     ]
    },
    {
     "name": "stdout",
     "output_type": "stream",
     "text": [
      " - val_loss: 3.7391\n",
      "\n"
     ]
    },
    {
     "name": "stderr",
     "output_type": "stream",
     "text": [
      "100%|███████████████████████████████████████| 2885/2885 [08:51<00:00,  5.43it/s]\n",
      "100%|███████████████████████████████████████| 1253/1253 [00:49<00:00, 25.11it/s]\n"
     ]
    },
    {
     "name": "stdout",
     "output_type": "stream",
     "text": [
      " - val_loss: 3.6929\n",
      "\n"
     ]
    },
    {
     "name": "stderr",
     "output_type": "stream",
     "text": [
      "100%|███████████████████████████████████████| 2885/2885 [08:51<00:00,  5.43it/s]\n",
      "100%|███████████████████████████████████████| 1253/1253 [00:49<00:00, 25.10it/s]\n"
     ]
    },
    {
     "name": "stdout",
     "output_type": "stream",
     "text": [
      " - val_loss: 3.7446\n",
      "\n"
     ]
    },
    {
     "name": "stderr",
     "output_type": "stream",
     "text": [
      "100%|███████████████████████████████████████| 2885/2885 [08:51<00:00,  5.43it/s]\n",
      "100%|███████████████████████████████████████| 1253/1253 [00:49<00:00, 25.14it/s]\n"
     ]
    },
    {
     "name": "stdout",
     "output_type": "stream",
     "text": [
      " - val_loss: 3.4870\n",
      "\n"
     ]
    },
    {
     "name": "stderr",
     "output_type": "stream",
     "text": [
      "100%|███████████████████████████████████████| 2885/2885 [08:51<00:00,  5.43it/s]\n",
      "100%|███████████████████████████████████████| 1253/1253 [00:49<00:00, 25.11it/s]\n"
     ]
    },
    {
     "name": "stdout",
     "output_type": "stream",
     "text": [
      " - val_loss: 3.4878\n",
      "\n"
     ]
    },
    {
     "name": "stderr",
     "output_type": "stream",
     "text": [
      "100%|███████████████████████████████████████| 2885/2885 [08:51<00:00,  5.43it/s]\n",
      "100%|███████████████████████████████████████| 1253/1253 [00:49<00:00, 25.10it/s]\n"
     ]
    },
    {
     "name": "stdout",
     "output_type": "stream",
     "text": [
      " - val_loss: 3.9920\n",
      "\n"
     ]
    },
    {
     "name": "stderr",
     "output_type": "stream",
     "text": [
      "100%|███████████████████████████████████████| 2885/2885 [08:51<00:00,  5.43it/s]\n",
      "100%|███████████████████████████████████████| 1253/1253 [00:49<00:00, 25.07it/s]\n"
     ]
    },
    {
     "name": "stdout",
     "output_type": "stream",
     "text": [
      " - val_loss: 3.6519\n",
      "\n"
     ]
    },
    {
     "name": "stderr",
     "output_type": "stream",
     "text": [
      "100%|███████████████████████████████████████| 2885/2885 [08:51<00:00,  5.43it/s]\n",
      "100%|███████████████████████████████████████| 1253/1253 [00:49<00:00, 25.11it/s]\n"
     ]
    },
    {
     "name": "stdout",
     "output_type": "stream",
     "text": [
      " - val_loss: 3.4381\n",
      "\n"
     ]
    },
    {
     "name": "stderr",
     "output_type": "stream",
     "text": [
      "100%|███████████████████████████████████████| 2885/2885 [08:51<00:00,  5.43it/s]\n",
      "100%|███████████████████████████████████████| 1253/1253 [00:49<00:00, 25.13it/s]\n"
     ]
    },
    {
     "name": "stdout",
     "output_type": "stream",
     "text": [
      " - val_loss: 3.5672\n",
      "\n"
     ]
    },
    {
     "name": "stderr",
     "output_type": "stream",
     "text": [
      "100%|███████████████████████████████████████| 2885/2885 [08:51<00:00,  5.43it/s]\n",
      "100%|███████████████████████████████████████| 1253/1253 [00:49<00:00, 25.10it/s]\n"
     ]
    },
    {
     "name": "stdout",
     "output_type": "stream",
     "text": [
      " - val_loss: 3.6674\n",
      "\n"
     ]
    },
    {
     "name": "stderr",
     "output_type": "stream",
     "text": [
      "100%|███████████████████████████████████████| 2885/2885 [08:51<00:00,  5.43it/s]\n",
      "100%|███████████████████████████████████████| 1253/1253 [00:49<00:00, 25.09it/s]\n"
     ]
    },
    {
     "name": "stdout",
     "output_type": "stream",
     "text": [
      " - val_loss: 3.4677\n",
      "\n"
     ]
    },
    {
     "name": "stderr",
     "output_type": "stream",
     "text": [
      "100%|███████████████████████████████████████| 2885/2885 [08:51<00:00,  5.43it/s]\n",
      "100%|███████████████████████████████████████| 1253/1253 [00:49<00:00, 25.12it/s]\n"
     ]
    },
    {
     "name": "stdout",
     "output_type": "stream",
     "text": [
      " - val_loss: 3.6042\n",
      "\n"
     ]
    },
    {
     "name": "stderr",
     "output_type": "stream",
     "text": [
      "100%|███████████████████████████████████████| 2885/2885 [08:51<00:00,  5.43it/s]\n",
      "100%|███████████████████████████████████████| 1253/1253 [00:49<00:00, 25.09it/s]\n"
     ]
    },
    {
     "name": "stdout",
     "output_type": "stream",
     "text": [
      " - val_loss: 3.3387\n",
      "\n"
     ]
    },
    {
     "name": "stderr",
     "output_type": "stream",
     "text": [
      "100%|███████████████████████████████████████| 2885/2885 [08:51<00:00,  5.43it/s]\n",
      "100%|███████████████████████████████████████| 1253/1253 [00:49<00:00, 25.11it/s]\n"
     ]
    },
    {
     "name": "stdout",
     "output_type": "stream",
     "text": [
      " - val_loss: 3.5345\n",
      "\n"
     ]
    },
    {
     "name": "stderr",
     "output_type": "stream",
     "text": [
      "100%|███████████████████████████████████████| 2885/2885 [08:51<00:00,  5.43it/s]\n",
      "100%|███████████████████████████████████████| 1253/1253 [00:49<00:00, 25.13it/s]\n"
     ]
    },
    {
     "name": "stdout",
     "output_type": "stream",
     "text": [
      " - val_loss: 3.6019\n",
      "\n"
     ]
    },
    {
     "name": "stderr",
     "output_type": "stream",
     "text": [
      "100%|███████████████████████████████████████| 2885/2885 [08:51<00:00,  5.43it/s]\n",
      "100%|███████████████████████████████████████| 1253/1253 [00:49<00:00, 25.12it/s]\n"
     ]
    },
    {
     "name": "stdout",
     "output_type": "stream",
     "text": [
      " - val_loss: 3.5826\n",
      "\n"
     ]
    },
    {
     "name": "stderr",
     "output_type": "stream",
     "text": [
      "100%|███████████████████████████████████████| 2885/2885 [08:51<00:00,  5.43it/s]\n",
      "100%|███████████████████████████████████████| 1253/1253 [00:49<00:00, 25.12it/s]\n"
     ]
    },
    {
     "name": "stdout",
     "output_type": "stream",
     "text": [
      " - val_loss: 3.6585\n",
      "\n"
     ]
    },
    {
     "name": "stderr",
     "output_type": "stream",
     "text": [
      "100%|███████████████████████████████████████| 2885/2885 [08:51<00:00,  5.43it/s]\n",
      "100%|███████████████████████████████████████| 1253/1253 [00:49<00:00, 25.07it/s]\n"
     ]
    },
    {
     "name": "stdout",
     "output_type": "stream",
     "text": [
      " - val_loss: 3.3941\n",
      "\n"
     ]
    },
    {
     "name": "stderr",
     "output_type": "stream",
     "text": [
      "100%|███████████████████████████████████████| 2885/2885 [08:51<00:00,  5.43it/s]\n",
      "100%|███████████████████████████████████████| 1253/1253 [00:49<00:00, 25.09it/s]\n"
     ]
    },
    {
     "name": "stdout",
     "output_type": "stream",
     "text": [
      " - val_loss: 3.5802\n",
      "\n"
     ]
    },
    {
     "name": "stderr",
     "output_type": "stream",
     "text": [
      "100%|███████████████████████████████████████| 2885/2885 [08:51<00:00,  5.43it/s]\n",
      "100%|███████████████████████████████████████| 1253/1253 [00:49<00:00, 25.09it/s]\n"
     ]
    },
    {
     "name": "stdout",
     "output_type": "stream",
     "text": [
      " - val_loss: 3.5544\n",
      "\n"
     ]
    },
    {
     "name": "stderr",
     "output_type": "stream",
     "text": [
      "100%|███████████████████████████████████████| 2885/2885 [08:51<00:00,  5.43it/s]\n",
      "100%|███████████████████████████████████████| 1253/1253 [00:49<00:00, 25.08it/s]\n"
     ]
    },
    {
     "name": "stdout",
     "output_type": "stream",
     "text": [
      " - val_loss: 3.6250\n",
      "\n"
     ]
    },
    {
     "name": "stderr",
     "output_type": "stream",
     "text": [
      "100%|███████████████████████████████████████| 2885/2885 [08:51<00:00,  5.43it/s]\n",
      "100%|███████████████████████████████████████| 1253/1253 [00:49<00:00, 25.10it/s]\n"
     ]
    },
    {
     "name": "stdout",
     "output_type": "stream",
     "text": [
      " - val_loss: 3.5409\n",
      "\n"
     ]
    },
    {
     "name": "stderr",
     "output_type": "stream",
     "text": [
      "100%|███████████████████████████████████████| 2885/2885 [08:51<00:00,  5.43it/s]\n",
      "100%|███████████████████████████████████████| 1253/1253 [00:49<00:00, 25.07it/s]\n"
     ]
    },
    {
     "name": "stdout",
     "output_type": "stream",
     "text": [
      " - val_loss: 3.5824\n",
      "\n"
     ]
    },
    {
     "name": "stderr",
     "output_type": "stream",
     "text": [
      "100%|███████████████████████████████████████| 2885/2885 [08:51<00:00,  5.42it/s]\n",
      "100%|███████████████████████████████████████| 1253/1253 [00:50<00:00, 25.02it/s]\n"
     ]
    },
    {
     "name": "stdout",
     "output_type": "stream",
     "text": [
      " - val_loss: 3.4095\n",
      "\n"
     ]
    },
    {
     "name": "stderr",
     "output_type": "stream",
     "text": [
      "100%|███████████████████████████████████████| 2885/2885 [08:51<00:00,  5.42it/s]\n",
      "100%|███████████████████████████████████████| 1253/1253 [00:50<00:00, 25.02it/s]\n"
     ]
    },
    {
     "name": "stdout",
     "output_type": "stream",
     "text": [
      " - val_loss: 3.5435\n",
      "\n"
     ]
    },
    {
     "name": "stderr",
     "output_type": "stream",
     "text": [
      "100%|███████████████████████████████████████| 2885/2885 [08:51<00:00,  5.42it/s]\n",
      "100%|███████████████████████████████████████| 1253/1253 [00:50<00:00, 25.02it/s]\n"
     ]
    },
    {
     "name": "stdout",
     "output_type": "stream",
     "text": [
      " - val_loss: 3.4105\n",
      "\n"
     ]
    },
    {
     "name": "stderr",
     "output_type": "stream",
     "text": [
      "100%|███████████████████████████████████████| 2885/2885 [08:51<00:00,  5.42it/s]\n",
      "100%|███████████████████████████████████████| 1253/1253 [00:50<00:00, 25.02it/s]\n"
     ]
    },
    {
     "name": "stdout",
     "output_type": "stream",
     "text": [
      " - val_loss: 3.3580\n",
      "\n"
     ]
    },
    {
     "name": "stderr",
     "output_type": "stream",
     "text": [
      "100%|███████████████████████████████████████| 2885/2885 [08:51<00:00,  5.42it/s]\n",
      "100%|███████████████████████████████████████| 1253/1253 [00:50<00:00, 25.01it/s]\n"
     ]
    },
    {
     "name": "stdout",
     "output_type": "stream",
     "text": [
      " - val_loss: 3.5628\n",
      "\n"
     ]
    },
    {
     "name": "stderr",
     "output_type": "stream",
     "text": [
      "100%|███████████████████████████████████████| 2885/2885 [08:51<00:00,  5.42it/s]\n",
      "100%|███████████████████████████████████████| 1253/1253 [00:50<00:00, 25.03it/s]\n"
     ]
    },
    {
     "name": "stdout",
     "output_type": "stream",
     "text": [
      " - val_loss: 3.7022\n",
      "\n"
     ]
    },
    {
     "name": "stderr",
     "output_type": "stream",
     "text": [
      "100%|███████████████████████████████████████| 2885/2885 [08:51<00:00,  5.42it/s]\n",
      "100%|███████████████████████████████████████| 1253/1253 [00:50<00:00, 24.97it/s]\n"
     ]
    },
    {
     "name": "stdout",
     "output_type": "stream",
     "text": [
      " - val_loss: 3.4644\n",
      "\n"
     ]
    },
    {
     "name": "stderr",
     "output_type": "stream",
     "text": [
      "100%|███████████████████████████████████████| 2885/2885 [08:51<00:00,  5.42it/s]\n",
      "100%|███████████████████████████████████████| 1253/1253 [00:50<00:00, 25.00it/s]\n"
     ]
    },
    {
     "name": "stdout",
     "output_type": "stream",
     "text": [
      " - val_loss: 3.3793\n",
      "\n"
     ]
    },
    {
     "name": "stderr",
     "output_type": "stream",
     "text": [
      "100%|███████████████████████████████████████| 2885/2885 [08:51<00:00,  5.42it/s]\n",
      "100%|███████████████████████████████████████| 1253/1253 [00:50<00:00, 25.02it/s]\n"
     ]
    },
    {
     "name": "stdout",
     "output_type": "stream",
     "text": [
      " - val_loss: 3.3728\n",
      "\n"
     ]
    },
    {
     "name": "stderr",
     "output_type": "stream",
     "text": [
      "100%|███████████████████████████████████████| 2885/2885 [08:51<00:00,  5.42it/s]\n",
      "100%|███████████████████████████████████████| 1253/1253 [00:50<00:00, 25.03it/s]\n"
     ]
    },
    {
     "name": "stdout",
     "output_type": "stream",
     "text": [
      " - val_loss: 3.4533\n",
      "\n"
     ]
    },
    {
     "name": "stderr",
     "output_type": "stream",
     "text": [
      "100%|███████████████████████████████████████| 2885/2885 [08:54<00:00,  5.40it/s]\n",
      "100%|███████████████████████████████████████| 1253/1253 [00:50<00:00, 24.88it/s]\n"
     ]
    },
    {
     "name": "stdout",
     "output_type": "stream",
     "text": [
      " - val_loss: 3.4469\n",
      "\n"
     ]
    },
    {
     "name": "stderr",
     "output_type": "stream",
     "text": [
      "100%|███████████████████████████████████████| 2885/2885 [08:52<00:00,  5.42it/s]\n",
      "100%|███████████████████████████████████████| 1253/1253 [00:50<00:00, 24.99it/s]\n"
     ]
    },
    {
     "name": "stdout",
     "output_type": "stream",
     "text": [
      " - val_loss: 3.2650\n",
      "\n"
     ]
    },
    {
     "name": "stderr",
     "output_type": "stream",
     "text": [
      "100%|███████████████████████████████████████| 2885/2885 [08:51<00:00,  5.43it/s]\n",
      "100%|███████████████████████████████████████| 1253/1253 [00:50<00:00, 25.05it/s]\n"
     ]
    },
    {
     "name": "stdout",
     "output_type": "stream",
     "text": [
      " - val_loss: 3.4202\n",
      "\n"
     ]
    },
    {
     "name": "stderr",
     "output_type": "stream",
     "text": [
      "100%|███████████████████████████████████████| 2885/2885 [08:51<00:00,  5.43it/s]\n",
      "100%|███████████████████████████████████████| 1253/1253 [00:49<00:00, 25.06it/s]\n"
     ]
    },
    {
     "name": "stdout",
     "output_type": "stream",
     "text": [
      " - val_loss: 3.2805\n",
      "\n"
     ]
    },
    {
     "name": "stderr",
     "output_type": "stream",
     "text": [
      "100%|███████████████████████████████████████| 2885/2885 [08:51<00:00,  5.43it/s]\n",
      "100%|███████████████████████████████████████| 1253/1253 [00:50<00:00, 25.04it/s]\n"
     ]
    },
    {
     "name": "stdout",
     "output_type": "stream",
     "text": [
      " - val_loss: 3.4368\n",
      "\n"
     ]
    },
    {
     "name": "stderr",
     "output_type": "stream",
     "text": [
      "100%|███████████████████████████████████████| 2885/2885 [08:51<00:00,  5.43it/s]\n",
      "100%|███████████████████████████████████████| 1253/1253 [00:50<00:00, 25.02it/s]\n"
     ]
    },
    {
     "name": "stdout",
     "output_type": "stream",
     "text": [
      " - val_loss: 3.4084\n",
      "\n"
     ]
    },
    {
     "name": "stderr",
     "output_type": "stream",
     "text": [
      "100%|███████████████████████████████████████| 2885/2885 [08:51<00:00,  5.43it/s]\n",
      "100%|███████████████████████████████████████| 1253/1253 [00:49<00:00, 25.08it/s]\n"
     ]
    },
    {
     "name": "stdout",
     "output_type": "stream",
     "text": [
      " - val_loss: 3.3197\n",
      "\n"
     ]
    },
    {
     "name": "stderr",
     "output_type": "stream",
     "text": [
      "100%|███████████████████████████████████████| 2885/2885 [08:51<00:00,  5.43it/s]\n",
      "100%|███████████████████████████████████████| 1253/1253 [00:50<00:00, 25.04it/s]\n"
     ]
    },
    {
     "name": "stdout",
     "output_type": "stream",
     "text": [
      " - val_loss: 3.4224\n",
      "\n"
     ]
    },
    {
     "name": "stderr",
     "output_type": "stream",
     "text": [
      "100%|███████████████████████████████████████| 2885/2885 [08:51<00:00,  5.43it/s]\n",
      "100%|███████████████████████████████████████| 1253/1253 [00:50<00:00, 25.02it/s]\n"
     ]
    },
    {
     "name": "stdout",
     "output_type": "stream",
     "text": [
      " - val_loss: 3.4317\n",
      "\n"
     ]
    },
    {
     "name": "stderr",
     "output_type": "stream",
     "text": [
      "100%|███████████████████████████████████████| 2885/2885 [08:51<00:00,  5.43it/s]\n",
      "100%|███████████████████████████████████████| 1253/1253 [00:50<00:00, 25.05it/s]\n"
     ]
    },
    {
     "name": "stdout",
     "output_type": "stream",
     "text": [
      " - val_loss: 3.2978\n",
      "\n"
     ]
    },
    {
     "name": "stderr",
     "output_type": "stream",
     "text": [
      "100%|███████████████████████████████████████| 2885/2885 [08:51<00:00,  5.43it/s]\n",
      "100%|███████████████████████████████████████| 1253/1253 [00:50<00:00, 25.02it/s]\n"
     ]
    },
    {
     "name": "stdout",
     "output_type": "stream",
     "text": [
      " - val_loss: 3.3034\n",
      "\n"
     ]
    },
    {
     "name": "stderr",
     "output_type": "stream",
     "text": [
      "100%|███████████████████████████████████████| 2885/2885 [08:51<00:00,  5.43it/s]\n",
      "100%|███████████████████████████████████████| 1253/1253 [00:49<00:00, 25.10it/s]\n"
     ]
    },
    {
     "name": "stdout",
     "output_type": "stream",
     "text": [
      " - val_loss: 3.3685\n",
      "\n"
     ]
    },
    {
     "name": "stderr",
     "output_type": "stream",
     "text": [
      "100%|███████████████████████████████████████| 2885/2885 [08:50<00:00,  5.44it/s]\n",
      "100%|███████████████████████████████████████| 1253/1253 [00:49<00:00, 25.09it/s]\n"
     ]
    },
    {
     "name": "stdout",
     "output_type": "stream",
     "text": [
      " - val_loss: 3.3368\n",
      "\n"
     ]
    },
    {
     "name": "stderr",
     "output_type": "stream",
     "text": [
      "100%|███████████████████████████████████████| 2885/2885 [08:49<00:00,  5.44it/s]\n",
      "100%|███████████████████████████████████████| 1253/1253 [00:49<00:00, 25.09it/s]\n"
     ]
    },
    {
     "name": "stdout",
     "output_type": "stream",
     "text": [
      " - val_loss: 3.3310\n",
      "\n"
     ]
    },
    {
     "name": "stderr",
     "output_type": "stream",
     "text": [
      "100%|███████████████████████████████████████| 2885/2885 [08:49<00:00,  5.44it/s]\n",
      "100%|███████████████████████████████████████| 1253/1253 [00:49<00:00, 25.07it/s]\n"
     ]
    },
    {
     "name": "stdout",
     "output_type": "stream",
     "text": [
      " - val_loss: 3.3251\n",
      "\n"
     ]
    },
    {
     "name": "stderr",
     "output_type": "stream",
     "text": [
      "100%|███████████████████████████████████████| 2885/2885 [08:49<00:00,  5.44it/s]\n",
      "100%|███████████████████████████████████████| 1253/1253 [00:49<00:00, 25.08it/s]\n"
     ]
    },
    {
     "name": "stdout",
     "output_type": "stream",
     "text": [
      " - val_loss: 3.3293\n",
      "\n"
     ]
    },
    {
     "name": "stderr",
     "output_type": "stream",
     "text": [
      "100%|███████████████████████████████████████| 2885/2885 [08:49<00:00,  5.45it/s]\n",
      "100%|███████████████████████████████████████| 1253/1253 [00:49<00:00, 25.09it/s]\n"
     ]
    },
    {
     "name": "stdout",
     "output_type": "stream",
     "text": [
      " - val_loss: 3.2636\n",
      "\n"
     ]
    },
    {
     "name": "stderr",
     "output_type": "stream",
     "text": [
      "100%|███████████████████████████████████████| 2885/2885 [08:49<00:00,  5.45it/s]\n",
      "100%|███████████████████████████████████████| 1253/1253 [00:49<00:00, 25.16it/s]\n"
     ]
    },
    {
     "name": "stdout",
     "output_type": "stream",
     "text": [
      " - val_loss: 3.2933\n",
      "\n"
     ]
    },
    {
     "name": "stderr",
     "output_type": "stream",
     "text": [
      "100%|███████████████████████████████████████| 2885/2885 [08:49<00:00,  5.44it/s]\n",
      "100%|███████████████████████████████████████| 1253/1253 [00:49<00:00, 25.15it/s]\n"
     ]
    },
    {
     "name": "stdout",
     "output_type": "stream",
     "text": [
      " - val_loss: 3.3228\n",
      "\n"
     ]
    },
    {
     "name": "stderr",
     "output_type": "stream",
     "text": [
      "100%|███████████████████████████████████████| 2885/2885 [08:49<00:00,  5.44it/s]\n",
      "100%|███████████████████████████████████████| 1253/1253 [00:49<00:00, 25.18it/s]\n"
     ]
    },
    {
     "name": "stdout",
     "output_type": "stream",
     "text": [
      " - val_loss: 3.2999\n",
      "\n"
     ]
    },
    {
     "name": "stderr",
     "output_type": "stream",
     "text": [
      "100%|███████████████████████████████████████| 2885/2885 [08:49<00:00,  5.45it/s]\n",
      "100%|███████████████████████████████████████| 1253/1253 [00:49<00:00, 25.14it/s]\n"
     ]
    },
    {
     "name": "stdout",
     "output_type": "stream",
     "text": [
      " - val_loss: 3.2858\n",
      "\n"
     ]
    },
    {
     "name": "stderr",
     "output_type": "stream",
     "text": [
      "100%|███████████████████████████████████████| 2885/2885 [08:49<00:00,  5.45it/s]\n",
      "100%|███████████████████████████████████████| 1253/1253 [00:49<00:00, 25.15it/s]\n"
     ]
    },
    {
     "name": "stdout",
     "output_type": "stream",
     "text": [
      " - val_loss: 3.3341\n",
      "\n"
     ]
    },
    {
     "name": "stderr",
     "output_type": "stream",
     "text": [
      "100%|███████████████████████████████████████| 2885/2885 [08:49<00:00,  5.44it/s]\n",
      "100%|███████████████████████████████████████| 1253/1253 [00:49<00:00, 25.12it/s]\n"
     ]
    },
    {
     "name": "stdout",
     "output_type": "stream",
     "text": [
      " - val_loss: 3.3932\n",
      "\n"
     ]
    },
    {
     "name": "stderr",
     "output_type": "stream",
     "text": [
      "100%|███████████████████████████████████████| 2885/2885 [08:49<00:00,  5.44it/s]\n",
      "100%|███████████████████████████████████████| 1253/1253 [00:49<00:00, 25.16it/s]\n"
     ]
    },
    {
     "name": "stdout",
     "output_type": "stream",
     "text": [
      " - val_loss: 3.3119\n",
      "\n"
     ]
    },
    {
     "name": "stderr",
     "output_type": "stream",
     "text": [
      "100%|███████████████████████████████████████| 2885/2885 [08:49<00:00,  5.45it/s]\n",
      "100%|███████████████████████████████████████| 1253/1253 [00:49<00:00, 25.14it/s]\n"
     ]
    },
    {
     "name": "stdout",
     "output_type": "stream",
     "text": [
      " - val_loss: 3.3021\n",
      "\n"
     ]
    },
    {
     "name": "stderr",
     "output_type": "stream",
     "text": [
      "100%|███████████████████████████████████████| 2885/2885 [08:49<00:00,  5.45it/s]\n",
      "100%|███████████████████████████████████████| 1253/1253 [00:49<00:00, 25.13it/s]\n"
     ]
    },
    {
     "name": "stdout",
     "output_type": "stream",
     "text": [
      " - val_loss: 3.2885\n",
      "\n"
     ]
    },
    {
     "name": "stderr",
     "output_type": "stream",
     "text": [
      "100%|███████████████████████████████████████| 2885/2885 [08:49<00:00,  5.45it/s]\n",
      "100%|███████████████████████████████████████| 1253/1253 [00:49<00:00, 25.15it/s]\n"
     ]
    },
    {
     "name": "stdout",
     "output_type": "stream",
     "text": [
      " - val_loss: 3.2378\n",
      "\n"
     ]
    },
    {
     "name": "stderr",
     "output_type": "stream",
     "text": [
      "100%|███████████████████████████████████████| 2885/2885 [08:49<00:00,  5.45it/s]\n",
      "100%|███████████████████████████████████████| 1253/1253 [00:49<00:00, 25.17it/s]\n"
     ]
    },
    {
     "name": "stdout",
     "output_type": "stream",
     "text": [
      " - val_loss: 3.3490\n",
      "\n"
     ]
    },
    {
     "name": "stderr",
     "output_type": "stream",
     "text": [
      "100%|███████████████████████████████████████| 2885/2885 [08:49<00:00,  5.45it/s]\n",
      "100%|███████████████████████████████████████| 1253/1253 [00:49<00:00, 25.15it/s]\n"
     ]
    },
    {
     "name": "stdout",
     "output_type": "stream",
     "text": [
      " - val_loss: 3.3231\n",
      "\n"
     ]
    },
    {
     "name": "stderr",
     "output_type": "stream",
     "text": [
      "100%|███████████████████████████████████████| 2885/2885 [08:52<00:00,  5.42it/s]\n",
      "100%|███████████████████████████████████████| 1253/1253 [00:50<00:00, 24.75it/s]\n"
     ]
    },
    {
     "name": "stdout",
     "output_type": "stream",
     "text": [
      " - val_loss: 3.4066\n",
      "\n"
     ]
    },
    {
     "name": "stderr",
     "output_type": "stream",
     "text": [
      "100%|███████████████████████████████████████| 2885/2885 [08:53<00:00,  5.41it/s]\n",
      "100%|███████████████████████████████████████| 1253/1253 [00:50<00:00, 24.85it/s]\n"
     ]
    },
    {
     "name": "stdout",
     "output_type": "stream",
     "text": [
      " - val_loss: 3.2904\n",
      "\n"
     ]
    },
    {
     "name": "stderr",
     "output_type": "stream",
     "text": [
      "100%|███████████████████████████████████████| 2885/2885 [08:53<00:00,  5.41it/s]\n",
      "100%|███████████████████████████████████████| 1253/1253 [00:50<00:00, 24.86it/s]\n"
     ]
    },
    {
     "name": "stdout",
     "output_type": "stream",
     "text": [
      " - val_loss: 3.3798\n",
      "\n"
     ]
    },
    {
     "name": "stderr",
     "output_type": "stream",
     "text": [
      "100%|███████████████████████████████████████| 2885/2885 [08:53<00:00,  5.41it/s]\n",
      "100%|███████████████████████████████████████| 1253/1253 [00:50<00:00, 24.84it/s]\n"
     ]
    },
    {
     "name": "stdout",
     "output_type": "stream",
     "text": [
      " - val_loss: 3.3975\n",
      "\n"
     ]
    },
    {
     "name": "stderr",
     "output_type": "stream",
     "text": [
      "100%|███████████████████████████████████████| 2885/2885 [08:53<00:00,  5.41it/s]\n",
      "100%|███████████████████████████████████████| 1253/1253 [00:50<00:00, 24.85it/s]"
     ]
    },
    {
     "name": "stdout",
     "output_type": "stream",
     "text": [
      " - val_loss: 3.3087\n",
      "\n"
     ]
    },
    {
     "name": "stderr",
     "output_type": "stream",
     "text": [
      "\n"
     ]
    }
   ],
   "source": [
    "loss_history = {'train': [], 'val': []}\n",
    "\n",
    "if os.path.exists('logs/log.txt'):\n",
    "    raise OSError('Previous training logs already exist.')\n",
    "\n",
    "lowest_loss = 100\n",
    "warmup=0\n",
    "for epoch in range(epochs):\n",
    "    if epoch < warmup:\n",
    "        optimizer.param_groups[0]['lr'] = learning_rate / 10\n",
    "    elif epoch == warmup:\n",
    "        optimizer.param_groups[0]['lr'] = learning_rate\n",
    "    \n",
    "    # train\n",
    "    train()\n",
    "    \n",
    "    # validation\n",
    "    test_loss = val_test(test_loader)\n",
    "    loss_history['val'].append(test_loss)\n",
    "    print(' - val_loss: {:.4f}\\n'.format(loss_history['val'][-1]))\n",
    "    \n",
    "    # save\n",
    "    save()\n",
    "    \n",
    "    # step scheduler\n",
    "    scheduler.step()"
   ]
  },
  {
   "cell_type": "code",
   "execution_count": 8,
   "metadata": {},
   "outputs": [
    {
     "data": {
      "image/png": "[encoded data removed]",
      "text/plain": [
       "<Figure size 432x288 with 1 Axes>"
      ]
     },
     "metadata": {
      "needs_background": "light"
     },
     "output_type": "display_data"
    }
   ],
   "source": [
    "loss_history = torch.load('logs/loss_history.npy')\n",
    "plt.plot(loss_history['train'], 'r', label='train')\n",
    "plt.plot(loss_history['val'], 'b', label='val')\n",
    "plt.xlabel('epoch')\n",
    "plt.ylabel('loss')\n",
    "plt.title('loss history')\n",
    "plt.legend()\n",
    "plt.ylim([1,10])\n",
    "plt.show()"
   ]
  },
  {
   "cell_type": "code",
   "execution_count": 9,
   "metadata": {},
   "outputs": [
    {
     "data": {
      "application/javascript": [
       "IPython.notebook.save_notebook()\n"
      ],
      "text/plain": [
       "<IPython.core.display.Javascript object>"
      ]
     },
     "metadata": {},
     "output_type": "display_data"
    }
   ],
   "source": [
    "%%javascript\n",
    "IPython.notebook.save_notebook()"
   ]
  },
  {
   "cell_type": "code",
   "execution_count": 10,
   "metadata": {},
   "outputs": [],
   "source": [
    "# import subprocess\n",
    "# import time\n",
    "# time.sleep(3)\n",
    "# subprocess.Popen(('shutdown', 'now'), stdout=subprocess.PIPE)"
   ]
  },
  {
   "cell_type": "code",
   "execution_count": null,
   "metadata": {},
   "outputs": [],
   "source": []
  }
 ],
 "metadata": {
  "environment": {
   "kernel": "python3",
   "name": "pytorch-gpu.1-11.m93",
   "type": "gcloud",
   "uri": "gcr.io/deeplearning-platform-release/pytorch-gpu.1-11:m93"
  },
  "kernelspec": {
   "display_name": "Python 3 (ipykernel)",
   "language": "python",
   "name": "python3"
  },
  "language_info": {
   "codemirror_mode": {
    "name": "ipython",
    "version": 3
   },
   "file_extension": ".py",
   "mimetype": "text/x-python",
   "name": "python",
   "nbconvert_exporter": "python",
   "pygments_lexer": "ipython3",
   "version": "3.9.12"
  }
 },
 "nbformat": 4,
 "nbformat_minor": 4
}
