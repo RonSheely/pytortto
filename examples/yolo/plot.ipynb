{
 "cells": [
  {
   "cell_type": "code",
   "execution_count": null,
   "id": "8af5669a",
   "metadata": {},
   "outputs": [],
   "source": [
    "from loss import *\n",
    "from dataset import *\n",
    "from utils import *\n",
    "from model import *\n",
    "from model_resnetyolo import *\n",
    "from viz import *\n",
    "import albumentations as A\n",
    "from albumentations.pytorch import ToTensorV2\n",
    "from torch.utils.data import DataLoader\n",
    "import torch.optim as optim\n",
    "import torch.nn.functional as F\n",
    "\n",
    "C=20\n",
    "B=2\n",
    "S=13\n",
    "batch_size=32\n",
    "\n",
    "# net = Yolov1(split_size=7, num_boxes=2, num_classes=20).cuda()\n",
    "net = YOLOv1ResNet(S=S, B=B, C=C).cuda()\n",
    "\n",
    "\n",
    "transform = A.Compose([\n",
    "    A.Resize(448, 448),\n",
    "    A.Normalize(),\n",
    "    ToTensorV2()\n",
    "], bbox_params=A.BboxParams(format='albumentations')) # format=albumentations is normalized pascal_voc.\n",
    "dataset=VOCDataset(root='data', image_set='test', S=S,C=C,transform=transform)\n",
    "dataloader=DataLoader(dataset=dataset, batch_size=batch_size, shuffle=False)\n",
    "\n",
    "\n",
    "\n",
    "net.load_state_dict(torch.load('backup/test3/checkpoint_117.npy'))\n",
    "# net.load_state_dict(torch.load('models/checkpoint_117.npy'))\n",
    "\n",
    "net.eval()\n",
    "with torch.no_grad():\n",
    "    for i, (img, (boxes, labels, Iobj), train_index) in enumerate(dataloader):\n",
    "        img, boxes, labels, Iobj = img.cuda(), boxes.cuda(), labels.cuda(), Iobj.cuda()\n",
    "        out = net(img)\n",
    "        if i==0:\n",
    "            break\n",
    "print('done')\n",
    "#####################################################"
   ]
  },
  {
   "cell_type": "code",
   "execution_count": null,
   "id": "3d41167c",
   "metadata": {},
   "outputs": [],
   "source": [
    "prob_threshold=0.4\n",
    "iou_threshold=0.3\n",
    "\n",
    "predictions = out.reshape(-1, S*S, C + 5 * B)  # (N, S*S, C+5B)\n",
    "boxes = predictions[..., 20:].reshape(-1, S*S, B, 5)  # (N, S*S, B, 5)\n",
    "indices=torch.arange(S*S).cuda()\n",
    "\n",
    "# detect boxes\n",
    "N_box_det=(boxes[...,0]>prob_threshold) & ((boxes>0).all(-1)) & ((boxes[...,1:3]<1).all(-1)) #N,S*S,B\n",
    "N_Iobj=N_box_det.any(-1) #N,S*S\n",
    "#####################################################\n",
    "i=0\n",
    "\n",
    "class_probs=predictions[i,:, :20] #S*S,20\n",
    "box=boxes[i] #S*S,B,5\n",
    "\n",
    "box_det=N_box_det[i] #S*S,B\n",
    "Iobj=N_Iobj[i] #S*S\n",
    "box_det=box_det[Iobj] #I,B\n",
    "I=box_det.shape[0]\n",
    "\n",
    "\n",
    "\n",
    "box=box[Iobj]\n",
    "box_indices=indices[Iobj]\n",
    "class_probs=class_probs[Iobj] #I,20\n",
    "label=class_probs.argmax(-1) #I\n",
    "label_probs=class_probs[torch.arange(I),label]#I\n",
    "classes=torch.unique(label) # unique classess\n",
    "all_bbnd=[]\n",
    "for c in classes:\n",
    "    Iobj_filtered=label==c\n",
    "    bbnd=box[Iobj_filtered]\n",
    "    indx=box_indices[Iobj_filtered]\n",
    "    ii,jj=indx//S, indx%S\n",
    "    bbnd[:,:,1]+=jj[:,None]\n",
    "    bbnd[:,:,2]+=ii[:,None]\n",
    "    bbnd[...,0]*=label_probs[Iobj_filtered][:,None]\n",
    "    bbnd=bbnd[box_det[Iobj_filtered]]\n",
    "    ind_after_nms=non_max_suppression(bboxes=bbnd, iou_threshold=iou_threshold,S=S)\n",
    "    all_bbnd.append((c.item(),bbnd[ind_after_nms]))\n",
    "\n",
    "visualize(train_index[i].item(), dataset, all_bbnd,S,plot_truth=False)"
   ]
  },
  {
   "cell_type": "code",
   "execution_count": 4,
   "id": "7d67d7f0",
   "metadata": {},
   "outputs": [
    {
     "name": "stdout",
     "output_type": "stream",
     "text": [
      "3.323138368184435\n"
     ]
    },
    {
     "data": {
      "image/png": "[encoded data removed]",
      "text/plain": [
       "<Figure size 432x288 with 1 Axes>"
      ]
     },
     "metadata": {
      "needs_background": "light"
     },
     "output_type": "display_data"
    }
   ],
   "source": [
    "import torch\n",
    "import matplotlib.pyplot as plt\n",
    "loss_history = torch.load('logs/loss_history.npy')\n",
    "print(loss_history['val'][-1])\n",
    "plt.plot(loss_history['train'], 'r', label='train')\n",
    "plt.plot(loss_history['val'], 'b', label='val')\n",
    "plt.xlabel('epoch')\n",
    "plt.ylabel('loss')\n",
    "plt.title('loss history')\n",
    "plt.legend()\n",
    "# plt.ylim([4,5])\n",
    "plt.show()"
   ]
  },
  {
   "cell_type": "code",
   "execution_count": null,
   "id": "23b0acfc",
   "metadata": {},
   "outputs": [],
   "source": []
  },
  {
   "cell_type": "code",
   "execution_count": null,
   "id": "27ea6b93",
   "metadata": {},
   "outputs": [],
   "source": []
  }
 ],
 "metadata": {
  "kernelspec": {
   "display_name": "Python 3 (ipykernel)",
   "language": "python",
   "name": "python3"
  },
  "language_info": {
   "codemirror_mode": {
    "name": "ipython",
    "version": 3
   },
   "file_extension": ".py",
   "mimetype": "text/x-python",
   "name": "python",
   "nbconvert_exporter": "python",
   "pygments_lexer": "ipython3",
   "version": "3.9.12"
  }
 },
 "nbformat": 4,
 "nbformat_minor": 5
}
