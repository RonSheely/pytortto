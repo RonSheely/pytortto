{
 "cells": [
  {
   "cell_type": "code",
   "execution_count": null,
   "metadata": {},
   "outputs": [],
   "source": [
    "# import cupy as cp\n",
    "# from cupyx.profiler import benchmark\n",
    "\n",
    "# def my_func(x,y):\n",
    "#     return x@y\n",
    "\n",
    "# def my_func1(x,y):\n",
    "#     return cp.lib.stride_tricks.as_strided(x, shape=(128*1024*16, 16), strides=(64,4))@y\n",
    "\n",
    "# def my_func2(x,y):\n",
    "#     return x.reshape(128*1024*16, 16)@y\n",
    "\n",
    "# x=cp.random.randn(128,1024,16,16).astype('f')\n",
    "# y=cp.random.randn(16,8).astype('f')\n",
    "\n",
    "# print(benchmark(my_func, (x,y), n_repeat=200))\n",
    "# print(benchmark(my_func1, (x,y), n_repeat=200))\n",
    "# print(benchmark(my_func2, (x,y), n_repeat=200))"
   ]
  },
  {
   "cell_type": "code",
   "execution_count": 55,
   "metadata": {},
   "outputs": [
    {
     "data": {
      "text/plain": [
       "((<BmmBackward0 at 0x7fe02c286f70>, 0),)"
      ]
     },
     "execution_count": 55,
     "metadata": {},
     "output_type": "execute_result"
    }
   ],
   "source": [
    "import torch\n",
    "x=torch.randn(10,23,12,14, requires_grad=True)\n",
    "y=torch.randn(23,14,2, requires_grad=True)\n",
    "z=torch.matmul(x,y)\n",
    "z.grad_fn.next_functions"
   ]
  },
  {
   "cell_type": "code",
   "execution_count": null,
   "metadata": {},
   "outputs": [],
   "source": []
  },
  {
   "cell_type": "code",
   "execution_count": 44,
   "metadata": {},
   "outputs": [],
   "source": [
    "import numpy as np\n",
    "np.random.seed(0)\n",
    "x=np.lib.stride_tricks.as_strided(np.array(6.).astype('f'), shape=(128,16,16), strides=(0,0,0))\n",
    "y=np.random.randn(16,32).astype('f')"
   ]
  },
  {
   "cell_type": "code",
   "execution_count": 48,
   "metadata": {},
   "outputs": [
    {
     "name": "stdout",
     "output_type": "stream",
     "text": [
      "974 µs ± 24 µs per loop (mean ± std. dev. of 7 runs, 1000 loops each)\n"
     ]
    }
   ],
   "source": [
    "%%timeit\n",
    "z=np.matmul(x,y)"
   ]
  },
  {
   "cell_type": "code",
   "execution_count": 49,
   "metadata": {},
   "outputs": [
    {
     "name": "stdout",
     "output_type": "stream",
     "text": [
      "935 µs ± 32.3 µs per loop (mean ± std. dev. of 7 runs, 1000 loops each)\n"
     ]
    }
   ],
   "source": [
    "%%timeit\n",
    "zz=np.matmul(x.reshape(-1, x.shape[-1]), y).reshape(*x.shape[:-1],-1)"
   ]
  },
  {
   "cell_type": "code",
   "execution_count": null,
   "metadata": {},
   "outputs": [],
   "source": []
  }
 ],
 "metadata": {
  "kernelspec": {
   "display_name": "Python 3",
   "language": "python",
   "name": "python3"
  },
  "language_info": {
   "codemirror_mode": {
    "name": "ipython",
    "version": 3
   },
   "file_extension": ".py",
   "mimetype": "text/x-python",
   "name": "python",
   "nbconvert_exporter": "python",
   "pygments_lexer": "ipython3",
   "version": "3.8.5"
  }
 },
 "nbformat": 4,
 "nbformat_minor": 5
}
