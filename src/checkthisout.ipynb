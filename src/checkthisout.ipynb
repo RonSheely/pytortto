{
 "cells": [
  {
   "cell_type": "code",
   "execution_count": 10,
   "id": "f99202e5",
   "metadata": {},
   "outputs": [
    {
     "name": "stdout",
     "output_type": "stream",
     "text": [
      "my_func             :    CPU:   159.337 us   +/- 22.201 (min:   137.413 / max:   258.915) us     GPU-0:  3292.558 us   +/- 375.332 (min:  2894.912 / max:  4182.112) us\n",
      "my_func1            :    CPU:    42.042 us   +/-  4.582 (min:    40.293 / max:    91.090) us     GPU-0:   647.825 us   +/- 11.054 (min:   622.816 / max:   714.432) us\n",
      "my_func2            :    CPU:    41.404 us   +/- 12.020 (min:    36.842 / max:   131.191) us     GPU-0:   649.412 us   +/-  7.612 (min:   628.704 / max:   696.416) us\n"
     ]
    }
   ],
   "source": [
    "import cupy as cp\n",
    "from cupyx.profiler import benchmark\n",
    "\n",
    "def my_func(x,y):\n",
    "    return x@y\n",
    "\n",
    "def my_func1(x,y):\n",
    "    return cp.lib.stride_tricks.as_strided(x, shape=(128*1024*16, 16), strides=(64,4))@y\n",
    "\n",
    "def my_func2(x,y):\n",
    "    return x.reshape(128*1024*16, 16)@y\n",
    "\n",
    "x=cp.random.randn(128,1024,16,16).astype('f')\n",
    "y=cp.random.randn(16,8).astype('f')\n",
    "\n",
    "print(benchmark(my_func, (x,y), n_repeat=200))\n",
    "print(benchmark(my_func1, (x,y), n_repeat=200))\n",
    "print(benchmark(my_func2, (x,y), n_repeat=200))"
   ]
  },
  {
   "cell_type": "code",
   "execution_count": null,
   "id": "4fb2649f",
   "metadata": {},
   "outputs": [],
   "source": []
  }
 ],
 "metadata": {
  "kernelspec": {
   "display_name": "Python 3 (ipykernel)",
   "language": "python",
   "name": "python3"
  },
  "language_info": {
   "codemirror_mode": {
    "name": "ipython",
    "version": 3
   },
   "file_extension": ".py",
   "mimetype": "text/x-python",
   "name": "python",
   "nbconvert_exporter": "python",
   "pygments_lexer": "ipython3",
   "version": "3.9.12"
  }
 },
 "nbformat": 4,
 "nbformat_minor": 5
}
