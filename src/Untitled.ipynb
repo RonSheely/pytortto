{
 "cells": [
  {
   "cell_type": "code",
   "execution_count": 87,
   "id": "00e272d6",
   "metadata": {},
   "outputs": [],
   "source": [
    "import torch\n",
    "import torch.nn as nn\n",
    "import torch.nn.init as init\n",
    "x=torch.tensor([1,2,3.],requires_grad=True)\n",
    "# init.normal_(x)\n",
    "# x"
   ]
  },
  {
   "cell_type": "code",
   "execution_count": 96,
   "id": "d25096a3",
   "metadata": {},
   "outputs": [
    {
     "ename": "AttributeError",
     "evalue": "'Tensor' object has no attribute 'ones_'",
     "output_type": "error",
     "traceback": [
      "\u001b[0;31m---------------------------------------------------------------------------\u001b[0m",
      "\u001b[0;31mAttributeError\u001b[0m                            Traceback (most recent call last)",
      "Input \u001b[0;32mIn [96]\u001b[0m, in \u001b[0;36m<cell line: 2>\u001b[0;34m()\u001b[0m\n\u001b[1;32m      1\u001b[0m y\u001b[38;5;241m=\u001b[39mx\u001b[38;5;241m+\u001b[39m\u001b[38;5;241m1\u001b[39m\n\u001b[0;32m----> 2\u001b[0m \u001b[43my\u001b[49m\u001b[38;5;241;43m.\u001b[39;49m\u001b[43mones_\u001b[49m()\n\u001b[1;32m      3\u001b[0m y\u001b[38;5;241m.\u001b[39msum()\u001b[38;5;241m.\u001b[39mbackward()\n\u001b[1;32m      4\u001b[0m x\u001b[38;5;241m.\u001b[39mgrad\n",
      "\u001b[0;31mAttributeError\u001b[0m: 'Tensor' object has no attribute 'ones_'"
     ]
    }
   ],
   "source": [
    "import tor"
   ]
  },
  {
   "cell_type": "code",
   "execution_count": null,
   "id": "6f5cedb2",
   "metadata": {},
   "outputs": [],
   "source": []
  }
 ],
 "metadata": {
  "kernelspec": {
   "display_name": "Python 3 (ipykernel)",
   "language": "python",
   "name": "python3"
  },
  "language_info": {
   "codemirror_mode": {
    "name": "ipython",
    "version": 3
   },
   "file_extension": ".py",
   "mimetype": "text/x-python",
   "name": "python",
   "nbconvert_exporter": "python",
   "pygments_lexer": "ipython3",
   "version": "3.9.12"
  }
 },
 "nbformat": 4,
 "nbformat_minor": 5
}
