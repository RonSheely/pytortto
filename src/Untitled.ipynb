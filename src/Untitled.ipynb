{
 "cells": [
  {
   "cell_type": "code",
   "execution_count": 2,
   "id": "135ce090",
   "metadata": {},
   "outputs": [
    {
     "name": "stdout",
     "output_type": "stream",
     "text": [
      "my_func             :    CPU:    36.556 us   +/- 11.956 (min:    28.803 / max:   114.756) us     GPU-0:  2873.400 us   +/- 167.104 (min:  2717.696 / max:  3293.248) us\n",
      "my_func1            :    CPU:    36.148 us   +/- 11.012 (min:    31.890 / max:   121.035) us     GPU-0:  2825.185 us   +/- 67.833 (min:  2801.760 / max:  3360.352) us\n"
     ]
    }
   ],
   "source": [
    "from cupyx.profiler import benchmark\n",
    "import cupy as cp\n",
    "import numpy as np\n",
    "one=np.uint8(1)\n",
    "def my_func(a):\n",
    "    return a+1\n",
    "def my_func1(a):\n",
    "    return a+one\n",
    "\n",
    "a = cp.random.random((256, 1024,16,16))\n",
    "\n",
    "print(benchmark(my_func, (a,), n_repeat=200))\n",
    "print(benchmark(my_func1, (a,), n_repeat=200))"
   ]
  },
  {
   "cell_type": "code",
   "execution_count": null,
   "id": "47f8b4a1",
   "metadata": {},
   "outputs": [],
   "source": []
  }
 ],
 "metadata": {
  "kernelspec": {
   "display_name": "Python 3 (ipykernel)",
   "language": "python",
   "name": "python3"
  },
  "language_info": {
   "codemirror_mode": {
    "name": "ipython",
    "version": 3
   },
   "file_extension": ".py",
   "mimetype": "text/x-python",
   "name": "python",
   "nbconvert_exporter": "python",
   "pygments_lexer": "ipython3",
   "version": "3.9.12"
  }
 },
 "nbformat": 4,
 "nbformat_minor": 5
}
